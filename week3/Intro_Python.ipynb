{
  "nbformat": 4,
  "nbformat_minor": 0,
  "metadata": {
    "colab": {
      "provenance": []
    },
    "kernelspec": {
      "name": "python3",
      "display_name": "Python 3"
    },
    "language_info": {
      "name": "python"
    }
  },
  "cells": [
    {
      "cell_type": "code",
      "execution_count": null,
      "metadata": {
        "colab": {
          "base_uri": "https://localhost:8080/"
        },
        "id": "zOlxR3BVxcib",
        "outputId": "96560b49-9c19-4ced-b67e-4382dc4e97b1"
      },
      "outputs": [
        {
          "output_type": "stream",
          "name": "stdout",
          "text": [
            "enter a number: 25\n",
            "number lies between 20 and 30\n"
          ]
        }
      ],
      "source": [
        "#1)\n",
        "# Find where the given number lies ?\n",
        "# 0-10, 10-20, 20-30, more than 30\n",
        "\n",
        "num = int(input('enter a number: '))\n",
        "\n",
        "if num < 0:\n",
        "    print('number is negative')\n",
        "elif num <= 10:\n",
        "    print('number lies between 0 and 10')\n",
        "elif num <= 20:\n",
        "    print('number lies between 10 and 20')\n",
        "elif num <= 30:\n",
        "    print('number lies between 20 and 30')\n",
        "else:\n",
        "    print('number is greater than 30')\n",
        "\n"
      ]
    },
    {
      "cell_type": "code",
      "source": [
        "#2)\n",
        "# if a number is multiple of 3  but not 5, print \"fizz\"\n",
        "# if a number is multiple of 5  but not 3, print \"buzz\"\n",
        "# if a number is multiple of both print \"fizz buzz\"\n",
        "\n",
        "n = int(input('enter a number: '))\n",
        "if n % 3 == 0 and n % 5 != 0:\n",
        "    print('fizz')\n",
        "elif n % 5 == 0 and n % 3 != 0:\n",
        "    print('buzz')\n",
        "elif n % 3 == 0 and n % 5 == 0:\n",
        "    print('fizz buzz')\n",
        "else:\n",
        "    print(n)\n"
      ],
      "metadata": {
        "colab": {
          "base_uri": "https://localhost:8080/"
        },
        "id": "Fr2CjeMQzCkj",
        "outputId": "ca2f8130-86e9-4a8e-dba5-4dca8b53d54b"
      },
      "execution_count": null,
      "outputs": [
        {
          "output_type": "stream",
          "name": "stdout",
          "text": [
            "enter a number: 15\n",
            "fizz buzz\n"
          ]
        }
      ]
    },
    {
      "cell_type": "code",
      "source": [
        "#3)\n",
        "# Roots  of the Quadratic equation?\n",
        "# Nature of the roots?\n",
        "\n",
        "import math\n",
        "\n",
        "a = float(input('enter coefficient a: '))\n",
        "b = float(input('enter coefficient b: '))\n",
        "c = float(input('enter coefficient c: '))\n",
        "\n",
        "# calculate the discriminant\n",
        "dis = b**2 - 4*a*c\n",
        "\n",
        "# check if the roots are real or imaginary\n",
        "if dis > 0:\n",
        "    root1 = (-b + math.sqrt(dis)) / (2*a)\n",
        "    root2 = (-b - math.sqrt(dis)) / (2*a)\n",
        "    print(' roots are real and different')\n",
        "    print(f'the roots are {root1} and {root2}')\n",
        "elif dis == 0:\n",
        "    root = -b / (2*a)\n",
        "    print('the roots are real and same')\n",
        "    print(f'The root is {root}')\n",
        "else:\n",
        "    real_part = -b / (2*a)\n",
        "    imaginary_part = math.sqrt(-dis) / (2*a)\n",
        "    print('the roots are complex and different')\n",
        "\n"
      ],
      "metadata": {
        "colab": {
          "base_uri": "https://localhost:8080/"
        },
        "id": "DOlb6vnPz0Up",
        "outputId": "f0efda87-af61-4352-f4d1-894f952406c0"
      },
      "execution_count": null,
      "outputs": [
        {
          "output_type": "stream",
          "name": "stdout",
          "text": [
            "enter coefficient a: 4\n",
            "enter coefficient b: 9\n",
            "enter coefficient c: 6\n",
            "the roots are complex and different\n",
            "the roots are -1.125 + 0.4841229182759271i and -1.125 - 0.4841229182759271i\n"
          ]
        }
      ]
    },
    {
      "cell_type": "code",
      "source": [
        "#4)\n",
        "# WAP to calculate the area of triangle, square, circle?\n",
        "import math\n",
        "\n",
        "shape = input('enter the shape (triangle, square, or circle): ')\n",
        "\n",
        "if shape == 'triangle':\n",
        "    base = float(input('enter the base length: '))\n",
        "    height = float(input('enter the height: '))\n",
        "    area = 0.5 * base * height\n",
        "    print('The area of the triangle is:', area)\n",
        "\n",
        "elif shape == 'square':\n",
        "    side = float(input('enter the side length: '))\n",
        "    area = side ** 2\n",
        "    print('the area of the square is:', area)\n",
        "\n",
        "elif shape == 'circle':\n",
        "    radius = float(input('enter the radius: '))\n",
        "    area = math.pi * radius ** 2\n",
        "    print('the area of the circle is:', area)\n",
        "\n",
        "else:\n",
        "    print('invalid shape entered')\n"
      ],
      "metadata": {
        "colab": {
          "base_uri": "https://localhost:8080/"
        },
        "id": "AP7zWxQg0qlz",
        "outputId": "a47cc44a-07e8-471b-9318-19d28ba75fec"
      },
      "execution_count": null,
      "outputs": [
        {
          "output_type": "stream",
          "name": "stdout",
          "text": [
            "enter the shape (triangle, square, or circle): triangle\n",
            "enter the base length: 9\n",
            "enter the height: 19\n",
            "The area of the triangle is: 85.5\n"
          ]
        }
      ]
    },
    {
      "cell_type": "code",
      "source": [
        "#5)\n",
        "# Price = your_value\n",
        "# quantity  = your_value\n",
        "# amount = price * quantity\n",
        "\n",
        "# amount =  ( 0 - 500 ) is low quality\n",
        "# amount =  ( 501 - 1000 )is High quality\n",
        "# amount =  ( 100 - 200 ) is cheaper cost\n",
        "# amount =  ( 201 - 400 ) is good cost\n",
        "# amount =  ( 401 - 800 ) is moderate cost\n",
        "# amount =  ( 801 - 1000 )is costly\n",
        "\n",
        "price = float(input('enter price: '))\n",
        "quantity = float(input('enter quantity: '))\n",
        "amount = price * quantity\n",
        "\n",
        "if amount <= 500:\n",
        "    print('low quality')\n",
        "elif amount <= 1000:\n",
        "    print('high quality')\n",
        "elif amount <= 200:\n",
        "    print('cheaper cost')\n",
        "elif amount <= 400:\n",
        "    print('good cost')\n",
        "elif amount <= 800:\n",
        "    print('moderate cost')\n",
        "else:\n",
        "    print('costly')\n"
      ],
      "metadata": {
        "colab": {
          "base_uri": "https://localhost:8080/"
        },
        "id": "ZGyc0qJg1uA6",
        "outputId": "e39e635c-dde8-43a5-e8c1-1a61f2bbf022"
      },
      "execution_count": null,
      "outputs": [
        {
          "output_type": "stream",
          "name": "stdout",
          "text": [
            "enter price: 300\n",
            "enter quantity: 2\n",
            "high quality\n"
          ]
        }
      ]
    },
    {
      "cell_type": "code",
      "source": [
        "#6)\n",
        "# Any product costs 100 each in shopping mall\n",
        "# There is a discount of 10% on the bill if customer shops more than 1000 rupees\n",
        "# Hint- Ask user, how many products he purchased as input to your code. \n",
        "# Tell the customer the final bill.\n",
        "\n",
        "items = int(input('Enter number of items? '))\n",
        "cost = items * 100\n",
        "if (cost >= 1000):\n",
        "  print(f'the actual bill is {cost}')\n",
        "  print(f'there is a 10% discount for you. \\n The final bill is {cost* 0.9}')\n",
        "else:\n",
        "  print(f'the total bill is: {cost}')"
      ],
      "metadata": {
        "colab": {
          "base_uri": "https://localhost:8080/"
        },
        "id": "O4wBQ77o2hXb",
        "outputId": "47c4b5ce-6588-4ffd-ee6f-77721dd79404"
      },
      "execution_count": null,
      "outputs": [
        {
          "output_type": "stream",
          "name": "stdout",
          "text": [
            "Enter number of items? 5\n",
            "the total bill is: 500\n"
          ]
        }
      ]
    },
    {
      "cell_type": "code",
      "source": [
        "#7)\n",
        "# Check whether a triangle is a scalene/isosceles/equilateral triangle? \n",
        "a = float(input('enter the length of side 1: '))\n",
        "b = float(input('enter the length of side 2: '))\n",
        "c = float(input('enter the length of side 3: '))\n",
        "\n",
        "if a == b == c:\n",
        "    print('the triangle is equilateral ')\n",
        "elif a == b or b == c or c == a:\n",
        "    print('the triangle is isosceles')\n",
        "else:\n",
        "    print('the triangle is scalene')\n"
      ],
      "metadata": {
        "colab": {
          "base_uri": "https://localhost:8080/"
        },
        "id": "k_iuwr-f2yDV",
        "outputId": "1b00d401-7ec5-46cc-9f18-b733d642892e"
      },
      "execution_count": null,
      "outputs": [
        {
          "output_type": "stream",
          "name": "stdout",
          "text": [
            "enter the length of side 1: 8\n",
            "enter the length of side 2: 7\n",
            "enter the length of side 3: 8\n",
            "the triangle is isosceles\n"
          ]
        }
      ]
    },
    {
      "cell_type": "code",
      "source": [
        "#8)\n",
        "attendance = float(input('enter the attendance percentage: '))\n",
        "permission = input('do you have permission? (yes or no): ')\n",
        "\n",
        "if attendance >= 75:\n",
        "    print('allowed for the exam')\n",
        "elif permission == \"yes\":\n",
        "    print('allowed for the exam with permission')\n",
        "else:\n",
        "    print('not allowed for the exam')\n"
      ],
      "metadata": {
        "colab": {
          "base_uri": "https://localhost:8080/"
        },
        "id": "KucjjoaT3SZJ",
        "outputId": "e6b7f552-2f30-4f15-e462-90e4d3b845a3"
      },
      "execution_count": null,
      "outputs": [
        {
          "output_type": "stream",
          "name": "stdout",
          "text": [
            "enter the attendance percentage: 86\n",
            "do you have permission? (yes or no): no\n",
            "allowed for the exam\n"
          ]
        }
      ]
    },
    {
      "cell_type": "code",
      "source": [
        "#9)\n",
        "# Build Mini calculator having functionalities - *, /, +, - , %, squareroot, exponentiation, floor, ceil\n",
        "\n",
        "import math\n",
        "\n",
        "num1 = float(input(\"Enter first number: \"))\n",
        "num2 = float(input(\"Enter second number: \"))\n",
        "\n",
        "operation = input('enter the operation you want to perform (+, -, *, /, %, sqrt, exp, floor, ceil): ')\n",
        "\n",
        "if operation == '+':\n",
        "    result = num1 + num2\n",
        "    print('result: ', result)\n",
        "    \n",
        "elif operation == '-':\n",
        "    result = num1 - num2\n",
        "    print('result: ', result)\n",
        "    \n",
        "elif operation == '*':\n",
        "    result = num1 * num2\n",
        "    print('result: ', result)\n",
        "    \n",
        "elif operation == '/':\n",
        "    result = num1 / num2\n",
        "    print('result: ', result)\n",
        "    \n",
        "elif operation == '%':\n",
        "    result = num1 % num2\n",
        "    print('result: ', result)\n",
        "    \n",
        "elif operation == 'sqrt':\n",
        "    result = math.sqrt(num1)\n",
        "    print('result: ', result)\n",
        "    \n",
        "elif operation == 'exp':\n",
        "    result = num1 ** num2\n",
        "    print('result: ', result)\n",
        "    \n",
        "elif operation == 'floor':\n",
        "    result = math.floor(num1)\n",
        "    print('result: ', result)\n",
        "    \n",
        "elif operation == 'ceil':\n",
        "    result = math.ceil(num1)\n",
        "    print('result: ', result)\n",
        "    \n",
        "else:\n",
        "    print('invalid operation selected')\n"
      ],
      "metadata": {
        "colab": {
          "base_uri": "https://localhost:8080/"
        },
        "id": "aJuAW1Uu36C2",
        "outputId": "dd29f0e0-2a87-4384-e609-12307730a717"
      },
      "execution_count": 3,
      "outputs": [
        {
          "output_type": "stream",
          "name": "stdout",
          "text": [
            "Enter first number: 4\n",
            "Enter second number: 5\n",
            "enter the operation you want to perform (+, -, *, /, %, sqrt, exp, floor, ceil): /\n",
            "result:  0.8\n"
          ]
        }
      ]
    },
    {
      "cell_type": "markdown",
      "source": [
        "###or \n"
      ],
      "metadata": {
        "id": "lgosunKQM2rP"
      }
    },
    {
      "cell_type": "code",
      "source": [
        "import math\n",
        "num1= float(input('enter first number'))\n",
        "num2= float(input('enter second number'))\n",
        "operator = (input('enter operator number'))\n",
        "if (operator == '+'):\n",
        " print(num1+num2)\n",
        "elif (operator == '-'):\n",
        " print(num1 - num2)\n",
        "elif (operator == '*'):\n",
        " print(num1 * num2)\n",
        "elif (operator =='/'):\n",
        " print(num1/num2)\n",
        "elif (operator == '//'):\n",
        "  print(num1 // num2)\n",
        "elif (operator == '**'):\n",
        "  print(num1**num2)\n",
        "elif (operator == '/'):\n",
        "  print(math.ceil(num1/num2))\n",
        "elif (operator == 'sqrt'):\n",
        "  print(math.sqrt(num1))\n",
        "  print(math.sqrt(num2))"
      ],
      "metadata": {
        "colab": {
          "base_uri": "https://localhost:8080/"
        },
        "id": "oU7wJaXiM2B2",
        "outputId": "6178a3bd-dd7b-445d-855d-285109c4c59c"
      },
      "execution_count": 2,
      "outputs": [
        {
          "output_type": "stream",
          "name": "stdout",
          "text": [
            "enter first number8\n",
            "enter second number4\n",
            "enter operator number//\n",
            "2.0\n"
          ]
        }
      ]
    },
    {
      "cell_type": "code",
      "source": [
        "#10)\n",
        "# Voter eligibility criteria\n",
        "# 1. What is your name? (Greet user with his/her name)\n",
        "# 2. Where are you from? (indian/others, only Indians are allowed to vote)\n",
        "# 3. Have you ever experienced voting before? (Yes/No)\n",
        "# 4. Would you like to Vote? (Yes/No)\n",
        "# 5. Which Year-Month-Day were you born? (DAY/MONTH/YEAR ,Calculate age)\n",
        "# 6. Did you like our project? (Yes/No)\n",
        "# 7. Please give us rating out of 5? => less than 5 ratings give 'we will try better' else 'thanks'\n",
        "\n",
        "name = input('what is your name? ')\n",
        "country = input('where are you from? (indian/others)')\n",
        "if country!= 'indian':\n",
        "  print('sorry, only indians are allowed to vote')\n",
        "\n",
        "voted_before = input('have you ever experienced voting before? (yes/no)')\n",
        "want_to_vote = input('would you like to vote? (yes/no)')\n",
        "\n",
        "if want_to_vote.lower() != \"yes\":\n",
        "    print('thank you for your time')\n",
        "\n",
        "dob = input('which year-month-day were you born? (DD/MM/YYYY)')\n",
        "dob_year = int(dob[6:])\n",
        "print(dob_year)\n",
        "curr_year = 2023\n",
        "age = curr_year - dob_year\n",
        "if age < 18:\n",
        "    print('sorry, you are not old enough to vote')\n",
        "else:\n",
        "  print('you can vote thank you')\n",
        "\n",
        "liked_project = input('did you like our project? (yes/no)')\n",
        "rating = int(input('please give us rating out of 5? '))\n",
        "\n",
        "if rating < 5:\n",
        "    print('thank you for your feedback. We will try better next time')\n",
        "else:\n",
        "    print('thank you for your feedback. We are glad you liked our project')\n",
        "\n",
        "\n"
      ],
      "metadata": {
        "id": "cLUPjwW949F8",
        "colab": {
          "base_uri": "https://localhost:8080/"
        },
        "outputId": "f1eb90b2-ca68-4a0d-a61d-3d34a2086bdd"
      },
      "execution_count": 1,
      "outputs": [
        {
          "output_type": "stream",
          "name": "stdout",
          "text": [
            "what is your name? Shazan\n",
            "where are you from? (indian/others)indians\n",
            "sorry, only indians are allowed to vote\n",
            "have you ever experienced voting before? (yes/no)yes\n",
            "would you like to vote? (yes/no)yes\n",
            "which year-month-day were you born? (DD/MM/YYYY)01/01/2002\n",
            "2002\n",
            "you can vote thank you\n",
            "did you like our project? (yes/no)no\n",
            "please give us rating out of 5? 2\n",
            "thank you for your feedback. We will try better next time\n"
          ]
        }
      ]
    },
    {
      "cell_type": "code",
      "source": [
        "#11)\n",
        "# Find greatest number among three numbers?\n",
        "# ex: a,b,c are numbers\n",
        "# i) a is greater\n",
        "# ii) b is greater\n",
        "# iii) c is greater\n",
        "# iv) a, b are greater\n",
        "# v) a,c are greater\n",
        "# vi) b,c are greater\n",
        "# vii) all are equal\n",
        "\n",
        "a = int(input('enter first number: '))\n",
        "b = int(input('enter second number: '))\n",
        "c = int(input('enter third number: '))\n",
        "\n",
        "if a > b and a > c:\n",
        "    print('the greatest number is', a)\n",
        "elif b > a and b > c:\n",
        "    print('the greatest number is', b)\n",
        "elif c > a and c > b:\n",
        "    print('the greatest number is', c)\n",
        "elif a == b and a > c:\n",
        "    print('the greatest numbers are', a, b)\n",
        "elif a == c and a > b:\n",
        "    print('the greatest numbers are', a, c)\n",
        "elif b == c and b > a:\n",
        "    print('the greatest numbers are', b, c)\n",
        "else:\n",
        "    print('all the numbers are equal')\n"
      ],
      "metadata": {
        "colab": {
          "base_uri": "https://localhost:8080/"
        },
        "id": "4B58Bb2v5V9D",
        "outputId": "50d2d35b-bb92-48d0-aeca-1ce0e8d2b48a"
      },
      "execution_count": null,
      "outputs": [
        {
          "output_type": "stream",
          "name": "stdout",
          "text": [
            "enter first number: 3\n",
            "enter second number: 7\n",
            "enter third number: 2\n",
            "the greatest number is 7\n"
          ]
        }
      ]
    }
  ]
}