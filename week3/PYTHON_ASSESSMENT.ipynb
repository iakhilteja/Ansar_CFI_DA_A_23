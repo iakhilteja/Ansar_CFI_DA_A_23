{
  "nbformat": 4,
  "nbformat_minor": 0,
  "metadata": {
    "colab": {
      "provenance": []
    },
    "kernelspec": {
      "name": "python3",
      "display_name": "Python 3"
    },
    "language_info": {
      "name": "python"
    }
  },
  "cells": [
    {
      "cell_type": "markdown",
      "source": [
        "# Python Assessment"
      ],
      "metadata": {
        "id": "Gv1gnyDBbt2i"
      }
    },
    {
      "cell_type": "code",
      "execution_count": null,
      "metadata": {
        "id": "a7_6VDfrbmdG"
      },
      "outputs": [],
      "source": [
        "#1) p, s = 9, 8\n",
        "\n",
        "p *= s #p = 9 * 8 = 72\n",
        "p -= s #p =72 - 8 = 64\n",
        "p = p/s #p = 64 / 8 = 8.0\n",
        "p >>= s  # p = p >> s => p = 8 >> 8 = 0\n",
        "\n",
        "p = p << s  # p = p << s => p = 0 << 8 = 0"
      ]
    },
    {
      "cell_type": "code",
      "source": [
        "#2)\n",
        "'''\n",
        "This is a multiline comment.\n",
        "It can span multiple lines.\n",
        "It is enclosed in triple quotes.\n",
        "'''\n",
        "\n",
        "print(\"Hello, world!\")\n",
        "\n"
      ],
      "metadata": {
        "colab": {
          "base_uri": "https://localhost:8080/"
        },
        "id": "2JaUR34Ac-G9",
        "outputId": "c8d2fb82-b9f7-4619-c969-502cfd0d9c75"
      },
      "execution_count": null,
      "outputs": [
        {
          "output_type": "stream",
          "name": "stdout",
          "text": [
            "Hello, world!\n"
          ]
        }
      ]
    },
    {
      "cell_type": "code",
      "source": [
        "#3)\n",
        "S, t = 3, 4\n",
        "S %= t \n"
      ],
      "metadata": {
        "id": "OpFg_bp6fo32"
      },
      "execution_count": null,
      "outputs": []
    },
    {
      "cell_type": "code",
      "source": [
        "#4)\n",
        "A = 8\n",
        "B = 10\n",
        "res1 = A&B\n",
        "res2 = A|B\n",
        "\n",
        "print('res1:',A&B)\n",
        "print('res2:',A|B)\n"
      ],
      "metadata": {
        "colab": {
          "base_uri": "https://localhost:8080/"
        },
        "id": "YHtBqjTtfwEo",
        "outputId": "8f7a15f0-a118-474a-e146-51796cea3366"
      },
      "execution_count": null,
      "outputs": [
        {
          "output_type": "stream",
          "name": "stdout",
          "text": [
            "res1: 8\n",
            "res2: 10\n"
          ]
        }
      ]
    },
    {
      "cell_type": "code",
      "source": [
        "#5)\n",
        "#Command to find the length of the string?\n",
        "\n",
        "a = 'hi shazan'\n",
        "#print(len(a))\n",
        "count = 0\n",
        "for i in a:\n",
        "  count+=1\n",
        "print(count)"
      ],
      "metadata": {
        "colab": {
          "base_uri": "https://localhost:8080/"
        },
        "id": "ralc6fOjggSa",
        "outputId": "59dd7919-496f-42c9-a825-e14e50b672ac"
      },
      "execution_count": null,
      "outputs": [
        {
          "output_type": "stream",
          "name": "stdout",
          "text": [
            "9\n"
          ]
        }
      ]
    },
    {
      "cell_type": "code",
      "source": [
        "#6)\n",
        "#Which of the following is an invalid identifier?\n",
        "#a. a123\n",
        "#b. _n_9\n",
        "#c. All_is_well\n",
        "#d. aB1!  \n",
        "\n",
        "'''Option d, aB1!, is an invalid identifier because it contains an exclamation mark (!), \n",
        "which is not allowed in identifiers'''\n",
        "\n",
        " \n"
      ],
      "metadata": {
        "id": "uJnGzDaZhn12"
      },
      "execution_count": null,
      "outputs": []
    },
    {
      "cell_type": "code",
      "source": [
        "#7)\n",
        "#Give an example for each of these for a 4 words sentence -\n",
        "#Title Case, CamelCase, SnakeCase?\n",
        "# 4-word sentence\n",
        "a = \"this is a sample sentence\"\n",
        "\n",
        "# title case\n",
        "title_case = a.title()\n",
        "print(title_case)  \n",
        "\n",
        "# camel case\n",
        "words = a.split()\n",
        "camel_case = words[0] + ''.join(word.title() for word in words[1:])\n",
        "print(camel_case)  \n",
        "\n",
        "# snake case\n",
        "snake_case = '_'.join(words)\n",
        "print(snake_case)  "
      ],
      "metadata": {
        "colab": {
          "base_uri": "https://localhost:8080/"
        },
        "id": "Vm1uf3CfiPEf",
        "outputId": "3e8d3ca0-85d2-431d-dcc4-7e8668297cf5"
      },
      "execution_count": null,
      "outputs": [
        {
          "output_type": "stream",
          "name": "stdout",
          "text": [
            "This Is A Sample Sentence\n",
            "thisIsASampleSentence\n",
            "this_is_a_sample_sentence\n"
          ]
        }
      ]
    },
    {
      "cell_type": "code",
      "source": [
        "#8)\n",
        "a, b , c = 1, 2, 3\n",
        "#What is the output for b*(c+a)?\n",
        "b*(c+a)"
      ],
      "metadata": {
        "colab": {
          "base_uri": "https://localhost:8080/"
        },
        "id": "QQ0zLYnyk913",
        "outputId": "ec7fbaf8-2533-4861-d6d0-c05214eb3c1e"
      },
      "execution_count": null,
      "outputs": [
        {
          "output_type": "execute_result",
          "data": {
            "text/plain": [
              "8"
            ]
          },
          "metadata": {},
          "execution_count": 25
        }
      ]
    },
    {
      "cell_type": "code",
      "source": [
        "#9)\n",
        "str1 = 'how are you'\n",
        "#Print ‘are’ only.\n",
        "print(str1[4:7])"
      ],
      "metadata": {
        "colab": {
          "base_uri": "https://localhost:8080/"
        },
        "id": "c6vAsp5VlJJa",
        "outputId": "7deb4be6-b631-4ddf-fc32-0df6e07477b8"
      },
      "execution_count": null,
      "outputs": [
        {
          "output_type": "stream",
          "name": "stdout",
          "text": [
            "are\n"
          ]
        }
      ]
    },
    {
      "cell_type": "code",
      "source": [
        "\n",
        "str1 = 'how are you and how are your parents and how are your girlfriends/boyfriends?'\n",
        "\n",
        "#str1.count(' are ')*' are '\n",
        "word = input ('give a word: ')\n",
        "for i in str1.split(' '):\n",
        "  if i == 'are':\n",
        "    print(i)"
      ],
      "metadata": {
        "colab": {
          "base_uri": "https://localhost:8080/"
        },
        "id": "RzveFlHbbdxg",
        "outputId": "ddfd910d-9c8a-448c-88b7-47f204374d24"
      },
      "execution_count": null,
      "outputs": [
        {
          "output_type": "stream",
          "name": "stdout",
          "text": [
            "are\n",
            "are\n",
            "are\n"
          ]
        }
      ]
    },
    {
      "cell_type": "code",
      "source": [
        "#10)\n",
        "#Write the command to get only imaginary numbers in the code below?\n",
        "import cmath\n",
        "x = 5\n",
        "y = 5\n",
        "z = complex(x,y)\n",
        "z"
      ],
      "metadata": {
        "colab": {
          "base_uri": "https://localhost:8080/"
        },
        "id": "IIELhbZ9lZue",
        "outputId": "8a4300d0-47b6-48c2-f18c-3eba4e2564cd"
      },
      "execution_count": null,
      "outputs": [
        {
          "output_type": "execute_result",
          "data": {
            "text/plain": [
              "(5+5j)"
            ]
          },
          "metadata": {},
          "execution_count": 29
        }
      ]
    },
    {
      "cell_type": "code",
      "source": [
        "#11)\n",
        "\n",
        "bool( { } )#bool( { } ) will return False,represents an empty dictionary is considered a false value\n",
        "\n",
        "bool(False)#bool(False) will also return False cuz already a boolean value"
      ],
      "metadata": {
        "colab": {
          "base_uri": "https://localhost:8080/"
        },
        "id": "Z3TGp1N1ltKN",
        "outputId": "5373e3b4-e720-4dd8-d6e9-1ee4d22131c1"
      },
      "execution_count": null,
      "outputs": [
        {
          "output_type": "execute_result",
          "data": {
            "text/plain": [
              "False"
            ]
          },
          "metadata": {},
          "execution_count": 33
        }
      ]
    },
    {
      "cell_type": "code",
      "source": [
        "#12\n",
        "#What are the data types of following respectively?\n",
        "a = (1,[2,3])\n",
        "print(type(a))    # tuple\n",
        "\n",
        "b = [1,2,'f']\n",
        "print(type(b))    # list\n",
        "\n",
        "c = 'hey1'\n",
        "print(type(c))    # str\n",
        "\n",
        "d = 123\n",
        "print(type(d))    # int\n",
        "\n",
        "e = {(1,2):['e']}\n",
        "print(type(e))    # dict\n"
      ],
      "metadata": {
        "colab": {
          "base_uri": "https://localhost:8080/"
        },
        "id": "DAbMOWUdoVDW",
        "outputId": "b3e5d08d-3b3a-4703-8089-8a33863366cf"
      },
      "execution_count": null,
      "outputs": [
        {
          "output_type": "stream",
          "name": "stdout",
          "text": [
            "<class 'tuple'>\n",
            "<class 'list'>\n",
            "<class 'str'>\n",
            "<class 'int'>\n",
            "<class 'dict'>\n"
          ]
        }
      ]
    },
    {
      "cell_type": "code",
      "source": [
        "#13\n",
        "#What is the output for the code below?\n",
        "print(10 == 9)"
      ],
      "metadata": {
        "colab": {
          "base_uri": "https://localhost:8080/"
        },
        "id": "ZTIOq1TxqH52",
        "outputId": "20313fea-0df9-4de6-ced5-eab35a0b878a"
      },
      "execution_count": null,
      "outputs": [
        {
          "output_type": "stream",
          "name": "stdout",
          "text": [
            "False\n"
          ]
        }
      ]
    },
    {
      "cell_type": "code",
      "source": [
        "#14\n",
        "#What is the output for the below code?\n",
        "quantity = 3\n",
        "itemno = 567\n",
        "price = 49.95\n",
        "myorder = \"I want to pay {2} dollars for {0} pieces of item {1}.\"\n",
        "print(myorder.format(quantity, itemno, price))"
      ],
      "metadata": {
        "colab": {
          "base_uri": "https://localhost:8080/"
        },
        "id": "Fiy8OwPMqsVv",
        "outputId": "dbc5a33c-8833-4737-ea61-0af6ab680c91"
      },
      "execution_count": null,
      "outputs": [
        {
          "output_type": "stream",
          "name": "stdout",
          "text": [
            "I want to pay 49.95 dollars for 3 pieces of item 567.\n"
          ]
        }
      ]
    },
    {
      "cell_type": "code",
      "source": [
        "#15\n",
        "#Convert the words ‘miss’ and ‘python’  to ‘mam’ and ‘C’ respectively without redeclaring the string?\n",
        "Str2 = 'hey miss! Welcome to python'\n",
        "Str2 = Str2.replace('miss', 'mam').replace('python', 'C')\n",
        "print(Str2)"
      ],
      "metadata": {
        "colab": {
          "base_uri": "https://localhost:8080/"
        },
        "id": "hJub4AkNq24M",
        "outputId": "b9d608d2-497e-4451-b6e5-4585d27dbb22"
      },
      "execution_count": null,
      "outputs": [
        {
          "output_type": "stream",
          "name": "stdout",
          "text": [
            "hey mam! Welcome to C\n"
          ]
        }
      ]
    },
    {
      "cell_type": "code",
      "source": [
        "#16\n",
        "#Convert the string to title case and lower case?\n",
        "Str3 = 'HYderabaD'\n",
        "a = Str3.title()\n",
        "b = Str3.lower()\n",
        "\n",
        "print(a)\n",
        "print(b)"
      ],
      "metadata": {
        "colab": {
          "base_uri": "https://localhost:8080/"
        },
        "id": "919vcdafsebV",
        "outputId": "3e9fdd8c-de27-4463-a0c2-0b4b0ac96396"
      },
      "execution_count": null,
      "outputs": [
        {
          "output_type": "stream",
          "name": "stdout",
          "text": [
            "Hyderabad\n",
            "hyderabad\n"
          ]
        }
      ]
    },
    {
      "cell_type": "code",
      "source": [
        "#17\n",
        "#Print how many numbers of ‘ A ‘ / ‘ a ‘  are there in the string without counting manually?\n",
        "Str4 = 'All apples are red in color and round in shape'\n",
        "A = Str4.count('A')\n",
        "a = Str4.count('a')\n",
        "print(A)\n",
        "print(a)\n",
        "\n"
      ],
      "metadata": {
        "colab": {
          "base_uri": "https://localhost:8080/"
        },
        "id": "QLq_KCPhtIKg",
        "outputId": "ae49a547-ec8c-465c-ef80-7e04430ca132"
      },
      "execution_count": null,
      "outputs": [
        {
          "output_type": "stream",
          "name": "stdout",
          "text": [
            "1\n",
            "4\n"
          ]
        }
      ]
    },
    {
      "cell_type": "code",
      "source": [
        "#18\n",
        "#What is the output for the code below?\n",
        "x = {1,2,3,4,5}\n",
        "y = {4,5,6,7,8}\n",
        "\n",
        "print(x+y) \n",
        "#shows type error cuz both are sets"
      ],
      "metadata": {
        "colab": {
          "base_uri": "https://localhost:8080/",
          "height": 205
        },
        "id": "6Dr0pBmqt9lG",
        "outputId": "9339a9f0-3858-445b-8eef-cf540755ae48"
      },
      "execution_count": null,
      "outputs": [
        {
          "output_type": "error",
          "ename": "TypeError",
          "evalue": "ignored",
          "traceback": [
            "\u001b[0;31m---------------------------------------------------------------------------\u001b[0m",
            "\u001b[0;31mTypeError\u001b[0m                                 Traceback (most recent call last)",
            "\u001b[0;32m<ipython-input-55-9233a91cfa96>\u001b[0m in \u001b[0;36m<cell line: 5>\u001b[0;34m()\u001b[0m\n\u001b[1;32m      3\u001b[0m \u001b[0my\u001b[0m \u001b[0;34m=\u001b[0m \u001b[0;34m{\u001b[0m\u001b[0;36m4\u001b[0m\u001b[0;34m,\u001b[0m\u001b[0;36m5\u001b[0m\u001b[0;34m,\u001b[0m\u001b[0;36m6\u001b[0m\u001b[0;34m,\u001b[0m\u001b[0;36m7\u001b[0m\u001b[0;34m,\u001b[0m\u001b[0;36m8\u001b[0m\u001b[0;34m}\u001b[0m\u001b[0;34m\u001b[0m\u001b[0;34m\u001b[0m\u001b[0m\n\u001b[1;32m      4\u001b[0m \u001b[0;34m\u001b[0m\u001b[0m\n\u001b[0;32m----> 5\u001b[0;31m \u001b[0mprint\u001b[0m\u001b[0;34m(\u001b[0m\u001b[0mx\u001b[0m\u001b[0;34m+\u001b[0m\u001b[0my\u001b[0m\u001b[0;34m)\u001b[0m\u001b[0;34m\u001b[0m\u001b[0;34m\u001b[0m\u001b[0m\n\u001b[0m",
            "\u001b[0;31mTypeError\u001b[0m: unsupported operand type(s) for +: 'set' and 'set'"
          ]
        }
      ]
    },
    {
      "cell_type": "code",
      "source": [
        "#19\n",
        "x = {1,2,3,4,5}\n",
        "y = {4,5,6,7,9}\n",
        "print( x | y )"
      ],
      "metadata": {
        "colab": {
          "base_uri": "https://localhost:8080/"
        },
        "id": "JgDOvT1NuYsl",
        "outputId": "e1fb71f0-f1d8-4ebe-82f7-52cca218d5b6"
      },
      "execution_count": null,
      "outputs": [
        {
          "output_type": "stream",
          "name": "stdout",
          "text": [
            "{1, 2, 3, 4, 5, 6, 7, 9}\n"
          ]
        }
      ]
    },
    {
      "cell_type": "code",
      "source": [
        "#20\n",
        "#What are the outputs for the code below?\n",
        "print(0 | True)\n",
        "print(0 == True)\n",
        "print('19' == 19 )"
      ],
      "metadata": {
        "id": "HqwISie7uhX9",
        "outputId": "cc923a95-1cc9-4a20-a2a2-2e0337c65e92",
        "colab": {
          "base_uri": "https://localhost:8080/"
        }
      },
      "execution_count": null,
      "outputs": [
        {
          "output_type": "stream",
          "name": "stdout",
          "text": [
            "1\n",
            "False\n",
            "False\n"
          ]
        }
      ]
    },
    {
      "cell_type": "code",
      "source": [
        "#21\n",
        "#Write a python code to add first n numbers?\n",
        "\n",
        "n = int(input('enter a positive integer: '))\n",
        "\n",
        "sum_n = (n * (n + 1)) // 2\n",
        "\n",
        "print('the sum of the first', n, sum_n)\n"
      ],
      "metadata": {
        "colab": {
          "base_uri": "https://localhost:8080/"
        },
        "id": "0WM7FKszjvby",
        "outputId": "b4a2c3dc-69ac-4c35-82f9-3d89e542e9dc"
      },
      "execution_count": null,
      "outputs": [
        {
          "output_type": "stream",
          "name": "stdout",
          "text": [
            "enter a positive integer: 9\n",
            "the sum of the first 9 45\n"
          ]
        }
      ]
    },
    {
      "cell_type": "code",
      "source": [
        "#22\n",
        "#Write a code to loop over the items in fruits list?\n",
        "fruits = [\"apple\", \"orange\", \"kiwi\"]\n",
        "\n",
        "for fruit in fruits:\n",
        "    print(fruit)\n"
      ],
      "metadata": {
        "colab": {
          "base_uri": "https://localhost:8080/"
        },
        "id": "anpI5UrNknLi",
        "outputId": "726e6a20-7007-4483-df9c-2adbc90cb20d"
      },
      "execution_count": null,
      "outputs": [
        {
          "output_type": "stream",
          "name": "stdout",
          "text": [
            "apple\n",
            "orange\n",
            "kiwi\n"
          ]
        }
      ]
    },
    {
      "cell_type": "code",
      "source": [
        "#23\n",
        "#Write a python code to print 6 tables using for and while loop\n",
        "i = 0\n",
        "while i <= 10:\n",
        "  print(f'6 x {i} = {6*i}')\n",
        "  i+=1"
      ],
      "metadata": {
        "id": "NTB4vLxZk8ZF",
        "colab": {
          "base_uri": "https://localhost:8080/"
        },
        "outputId": "9d2b66f7-2dc1-42f0-b283-a4cc2b7cfe58"
      },
      "execution_count": null,
      "outputs": [
        {
          "output_type": "stream",
          "name": "stdout",
          "text": [
            "6 x 0 = 0\n",
            "6 x 1 = 6\n",
            "6 x 2 = 12\n",
            "6 x 3 = 18\n",
            "6 x 4 = 24\n",
            "6 x 5 = 30\n",
            "6 x 6 = 36\n",
            "6 x 7 = 42\n",
            "6 x 8 = 48\n",
            "6 x 9 = 54\n",
            "6 x 10 = 60\n"
          ]
        }
      ]
    },
    {
      "cell_type": "code",
      "source": [
        "#24\n",
        "#Write a command to get the value of this  64 ?\n",
        "#6 ** 4\n",
        "import math\n",
        "math.pow(6,4)"
      ],
      "metadata": {
        "colab": {
          "base_uri": "https://localhost:8080/"
        },
        "id": "8u2BFY0_lWLm",
        "outputId": "67ebb770-cd83-482c-dd98-f3f9906053a5"
      },
      "execution_count": null,
      "outputs": [
        {
          "output_type": "execute_result",
          "data": {
            "text/plain": [
              "1296.0"
            ]
          },
          "metadata": {},
          "execution_count": 21
        }
      ]
    },
    {
      "cell_type": "code",
      "source": [
        "#25\n",
        "#What will be the output of the below given code?\n",
        "\n",
        "colors = ['white', 'Black', 'Grey']\n",
        "x = 'Red' not in colors\n",
        "print(x)"
      ],
      "metadata": {
        "colab": {
          "base_uri": "https://localhost:8080/"
        },
        "id": "caXEll53llX-",
        "outputId": "a2db10a2-740e-45f6-a260-027be6fa340e"
      },
      "execution_count": null,
      "outputs": [
        {
          "output_type": "stream",
          "name": "stdout",
          "text": [
            "True\n"
          ]
        }
      ]
    },
    {
      "cell_type": "code",
      "source": [
        "#26. \n",
        "#What is the output of print tuple[0] if tuple = ( 'abcd', 786 , 2.23, 'john', 70.2 )?\n",
        "\n",
        "if tuple == ( 'abcd', 786 , 2.23, 'john', 70.2 ):\n",
        "\n",
        " print (tuple[0])"
      ],
      "metadata": {
        "id": "RmnxpmQMsZJC"
      },
      "execution_count": 6,
      "outputs": []
    },
    {
      "cell_type": "code",
      "source": [
        "#27. \n",
        "#What is the output of L[-2] if L = [1,2,3]?\n",
        "\n",
        "'''gives output 2'''"
      ],
      "metadata": {
        "id": "F99ZX0edspKB"
      },
      "execution_count": null,
      "outputs": []
    },
    {
      "cell_type": "code",
      "source": [
        "#29\n",
        "\n",
        "#Which is mutable and immutable in List and Tuple?\n",
        "'''In Python, lists are mutable while tuples are immutable.\n",
        "\n",
        "Lists can be modified after they are created by adding, removing, or modifying elements using methods, \n",
        "Tuples, on the other hand, cannot be modified once they are created.\n",
        "If you need to modify a tuple, you must create a new tuple with the modified values. '''"
      ],
      "metadata": {
        "id": "HTvYQm-Il6XY"
      },
      "execution_count": null,
      "outputs": []
    },
    {
      "cell_type": "code",
      "source": [
        "#30\n",
        "\n",
        "#What is the output of tiny * 3,  if tiny = [ 123, 'john' ]?\n",
        "\n",
        "tiny = [123, 'john']\n",
        "result = tiny * 3\n",
        "print(result)\n"
      ],
      "metadata": {
        "colab": {
          "base_uri": "https://localhost:8080/"
        },
        "id": "EgldzgVUmdnB",
        "outputId": "4a6a103c-d1f1-4993-beb2-cc22f23e526b"
      },
      "execution_count": null,
      "outputs": [
        {
          "output_type": "stream",
          "name": "stdout",
          "text": [
            "[123, 'john', 123, 'john', 123, 'john']\n"
          ]
        }
      ]
    },
    {
      "cell_type": "code",
      "source": [
        "#31\n",
        "\n",
        "#Which is the function to check in a string that all characters are alphanumeric?\n",
        "\n",
        "'''isalnum() method to check if a string contains only alphanumeric characters'''"
      ],
      "metadata": {
        "id": "yNhsEmLpm1G1"
      },
      "execution_count": null,
      "outputs": []
    },
    {
      "cell_type": "code",
      "source": [
        "32\n",
        "\n",
        "#What is the command line to get the output as ‘heshewe’?\n",
        "a = ['he', 'she', 'we']\n",
        "\n",
        "\n",
        "result = a[0] + a[1] + a[2]\n",
        "print(result)\n"
      ],
      "metadata": {
        "colab": {
          "base_uri": "https://localhost:8080/"
        },
        "id": "--I8Qa7fnEqM",
        "outputId": "58ac4aec-2775-4f46-c91e-df019f6909c4"
      },
      "execution_count": null,
      "outputs": [
        {
          "output_type": "stream",
          "name": "stdout",
          "text": [
            "heshewe\n"
          ]
        }
      ]
    },
    {
      "cell_type": "code",
      "source": [
        "#33\n",
        "\n",
        "#What is the position of number 3?\n",
        "L = [ 1, 2, 1, [ 2, 3 ], 5 ]\n",
        "l = L[3][1]\n",
        "print(l)\n",
        "print('L[3][1]')\n",
        "\n"
      ],
      "metadata": {
        "colab": {
          "base_uri": "https://localhost:8080/"
        },
        "id": "CaMGRPYNnXkc",
        "outputId": "f557460d-91b8-4804-8ead-6488f5b63dfd"
      },
      "execution_count": null,
      "outputs": [
        {
          "output_type": "stream",
          "name": "stdout",
          "text": [
            "3\n",
            "L[3][1] 3\n"
          ]
        }
      ]
    },
    {
      "cell_type": "code",
      "source": [
        "L = [ 1, 2, 1, [ 2, 3 ], 5 ]\n",
        "l = L[3][1]\n",
        "print('l=',l)\n",
        "\n",
        "i=set()\n",
        "\n",
        "for j in L:\n",
        "  if L.count(j) > 1:\n",
        "    i.add(j)\n",
        "if i:\n",
        "  print('duplicates are',i)\n",
        "else:\n",
        "   print('no duplicates') \n"
      ],
      "metadata": {
        "colab": {
          "base_uri": "https://localhost:8080/"
        },
        "id": "kNI0sgzrvM4H",
        "outputId": "aa87623f-3200-42ec-facc-df2d230e3a51"
      },
      "execution_count": null,
      "outputs": [
        {
          "output_type": "stream",
          "name": "stdout",
          "text": [
            "l= 3\n",
            "duplicates are {1}\n"
          ]
        }
      ]
    },
    {
      "cell_type": "code",
      "source": [
        "#34\n",
        "\n",
        "#Calculate the total number of 9 in the below-given list? And State the predefined function to\n",
        "#calculate the number of 9’s?\n",
        "\n",
        "\n",
        "List1 = [9, 90, 99, 999, 9999]\n",
        "total_nines = 0\n",
        "for num in List1:\n",
        "    for i in str(num):\n",
        "        if i == '9':\n",
        "            total_nines += 1\n",
        "print(f\"Total number of 9's in the list: {total_nines}\")\n"
      ],
      "metadata": {
        "colab": {
          "base_uri": "https://localhost:8080/"
        },
        "id": "YJHvruKvoAlh",
        "outputId": "3cb58138-ccc3-41bd-eea6-8cac10b9b47f"
      },
      "execution_count": null,
      "outputs": [
        {
          "output_type": "stream",
          "name": "stdout",
          "text": [
            "Total number of 9's in the list: 11\n"
          ]
        }
      ]
    },
    {
      "cell_type": "code",
      "source": [
        "#35\n",
        "#What is the result of this code?\n",
        "nums = [10, 9, 8, 7, 6, 5]\n",
        "nums[0] = nums[1] - 5\n",
        "if 4 in nums: \n",
        "  print(nums[3])\n",
        "else: \n",
        "  print(nums[4])"
      ],
      "metadata": {
        "colab": {
          "base_uri": "https://localhost:8080/"
        },
        "id": "9r0OKt05pMJ4",
        "outputId": "d9d3ae56-adf1-4c87-f817-9d5dd790364e"
      },
      "execution_count": null,
      "outputs": [
        {
          "output_type": "stream",
          "name": "stdout",
          "text": [
            "7\n"
          ]
        }
      ]
    },
    {
      "cell_type": "code",
      "source": [
        "#36\n",
        "#What is the result of this code?\n",
        "nums = [9, 8, 7, 6, 5]\n",
        "nums.append(4)\n",
        "nums.insert(2, 11)\n",
        "print(len(nums))"
      ],
      "metadata": {
        "colab": {
          "base_uri": "https://localhost:8080/"
        },
        "id": "gcbZXfbzpi_m",
        "outputId": "7e435b02-4659-4a65-fe14-73a99caeb372"
      },
      "execution_count": null,
      "outputs": [
        {
          "output_type": "stream",
          "name": "stdout",
          "text": [
            "7\n"
          ]
        }
      ]
    },
    {
      "cell_type": "code",
      "source": [
        "#37\n",
        "#What is the result of this code?\n",
        "list = [1, 1, 2, 3, 5, 8, 13]\n",
        "print(list[list[4]])"
      ],
      "metadata": {
        "colab": {
          "base_uri": "https://localhost:8080/"
        },
        "id": "pGgN7ih-prtA",
        "outputId": "4e3438d9-b5d0-4c4f-e38e-2c4c3d315119"
      },
      "execution_count": null,
      "outputs": [
        {
          "output_type": "stream",
          "name": "stdout",
          "text": [
            "8\n"
          ]
        }
      ]
    },
    {
      "cell_type": "code",
      "source": [
        "#38\n",
        "#Which of the following is a false statement in python?\n",
        "int(144)==144   #true\n",
        "int('144')==144 #true\n",
        "int(144.0)==144 #true\n",
        "#None of the above = ''' false"
      ],
      "metadata": {
        "colab": {
          "base_uri": "https://localhost:8080/"
        },
        "id": "FkGcCieKqUF5",
        "outputId": "9c96e0a3-2300-4620-be8b-9c787c8fd29f"
      },
      "execution_count": null,
      "outputs": [
        {
          "output_type": "execute_result",
          "data": {
            "text/plain": [
              "True"
            ]
          },
          "metadata": {},
          "execution_count": 23
        }
      ]
    },
    {
      "cell_type": "code",
      "source": [
        "#39\n",
        "#What is the output of [ 1, 2, 3 ] + [ 4, 5, 6 ] ?\n",
        "[ 1, 2, 3 ] + [ 4, 5, 6 ]"
      ],
      "metadata": {
        "colab": {
          "base_uri": "https://localhost:8080/"
        },
        "id": "WYTpA958qxO5",
        "outputId": "1800457a-6c45-4d67-964b-d519c7ead5e0"
      },
      "execution_count": null,
      "outputs": [
        {
          "output_type": "execute_result",
          "data": {
            "text/plain": [
              "[1, 2, 3, 4, 5, 6]"
            ]
          },
          "metadata": {},
          "execution_count": 24
        }
      ]
    },
    {
      "cell_type": "code",
      "source": [
        "#40\n",
        "#What is the command to sort a list?\n",
        "\n",
        "a = [5, 2, 8, 3, 9, 1]\n",
        "\n",
        "a.sort()\n",
        "a"
      ],
      "metadata": {
        "colab": {
          "base_uri": "https://localhost:8080/"
        },
        "id": "itRFmVRDq2-r",
        "outputId": "c9eed216-b95e-4ab0-b9a0-bdfbeb90c0ba"
      },
      "execution_count": null,
      "outputs": [
        {
          "output_type": "execute_result",
          "data": {
            "text/plain": [
              "[1, 2, 3, 5, 8, 9]"
            ]
          },
          "metadata": {},
          "execution_count": 25
        }
      ]
    },
    {
      "cell_type": "code",
      "source": [
        "#42\n",
        "#Which of the following statements is used when a statement is required syntactically but you do not\n",
        "#want any command or code to execute?\n",
        "#a. break\n",
        "#b. continue\n",
        "#c. pass               '''used to have no effect on the control flow'''\n",
        "#d. None of the above."
      ],
      "metadata": {
        "id": "fnrcO25erKAM"
      },
      "execution_count": null,
      "outputs": []
    },
    {
      "cell_type": "code",
      "source": [
        "#43\n",
        "#What is the result of this code?\n",
        "\n",
        "tup  = (\"hi\", \"Python\", 2)\n",
        "print (type(tup))\n",
        "print (tup)\n",
        "print (tup[1:])\n",
        "print (tup[0:1])\n",
        "print (tup + tup)\n",
        "print (tup * 3)\n",
        "tup[2] = \"hi\"# what is the updated tup? '''shows type error\n"
      ],
      "metadata": {
        "colab": {
          "base_uri": "https://localhost:8080/",
          "height": 329
        },
        "id": "4ZbixQNbrury",
        "outputId": "da78105b-d794-4a2c-8a8c-cfba85be2e5b"
      },
      "execution_count": null,
      "outputs": [
        {
          "output_type": "stream",
          "name": "stdout",
          "text": [
            "<class 'tuple'>\n",
            "('hi', 'Python', 2)\n",
            "('Python', 2)\n",
            "('hi',)\n",
            "('hi', 'Python', 2, 'hi', 'Python', 2)\n",
            "('hi', 'Python', 2, 'hi', 'Python', 2, 'hi', 'Python', 2)\n"
          ]
        },
        {
          "output_type": "error",
          "ename": "TypeError",
          "evalue": "ignored",
          "traceback": [
            "\u001b[0;31m---------------------------------------------------------------------------\u001b[0m",
            "\u001b[0;31mTypeError\u001b[0m                                 Traceback (most recent call last)",
            "\u001b[0;32m<ipython-input-28-1bad753b9cc7>\u001b[0m in \u001b[0;36m<cell line: 10>\u001b[0;34m()\u001b[0m\n\u001b[1;32m      8\u001b[0m \u001b[0mprint\u001b[0m \u001b[0;34m(\u001b[0m\u001b[0mtup\u001b[0m \u001b[0;34m+\u001b[0m \u001b[0mtup\u001b[0m\u001b[0;34m)\u001b[0m\u001b[0;34m\u001b[0m\u001b[0;34m\u001b[0m\u001b[0m\n\u001b[1;32m      9\u001b[0m \u001b[0mprint\u001b[0m \u001b[0;34m(\u001b[0m\u001b[0mtup\u001b[0m \u001b[0;34m*\u001b[0m \u001b[0;36m3\u001b[0m\u001b[0;34m)\u001b[0m\u001b[0;34m\u001b[0m\u001b[0;34m\u001b[0m\u001b[0m\n\u001b[0;32m---> 10\u001b[0;31m \u001b[0mtup\u001b[0m\u001b[0;34m[\u001b[0m\u001b[0;36m2\u001b[0m\u001b[0;34m]\u001b[0m \u001b[0;34m=\u001b[0m \u001b[0;34m\"hi\"\u001b[0m\u001b[0;34m\u001b[0m\u001b[0;34m\u001b[0m\u001b[0m\n\u001b[0m\u001b[1;32m     11\u001b[0m \u001b[0;31m# what is the updated tup?\u001b[0m\u001b[0;34m\u001b[0m\u001b[0;34m\u001b[0m\u001b[0m\n",
            "\u001b[0;31mTypeError\u001b[0m: 'tuple' object does not support item assignment"
          ]
        }
      ]
    },
    {
      "cell_type": "code",
      "source": [
        "#44\n",
        "#What is the result of this code?\n",
        "for x in range(21,5,-3):\n",
        " print(x)"
      ],
      "metadata": {
        "colab": {
          "base_uri": "https://localhost:8080/"
        },
        "id": "reO1iW3HsYxh",
        "outputId": "aa9f991a-1cfd-49e5-e0f5-64bd5fc05c93"
      },
      "execution_count": null,
      "outputs": [
        {
          "output_type": "stream",
          "name": "stdout",
          "text": [
            "21\n",
            "18\n",
            "15\n",
            "12\n",
            "9\n",
            "6\n"
          ]
        }
      ]
    },
    {
      "cell_type": "code",
      "source": [
        "#45\n",
        "#What is the result of this code?\n",
        "\n",
        "for i in range(0,5):\n",
        " print(i)\n",
        " break;"
      ],
      "metadata": {
        "colab": {
          "base_uri": "https://localhost:8080/"
        },
        "id": "fDITOBN-sqCX",
        "outputId": "9b35bb96-633d-4b35-cbf0-ca1764da5f04"
      },
      "execution_count": null,
      "outputs": [
        {
          "output_type": "stream",
          "name": "stdout",
          "text": [
            "0\n"
          ]
        }
      ]
    },
    {
      "cell_type": "code",
      "source": [
        "#46\n",
        "#Program to check whether a number is even or not.\n",
        "\n",
        "a = int(input('enter the number '))\n",
        "\n",
        "if a % 2 == 0:\n",
        "  print('it is even')\n",
        "else:\n",
        "  print('not even')\n"
      ],
      "metadata": {
        "id": "uk3NWCjns0gV",
        "colab": {
          "base_uri": "https://localhost:8080/"
        },
        "outputId": "2663ce40-50c5-4c02-f4f2-54cc4dc33ac4"
      },
      "execution_count": null,
      "outputs": [
        {
          "output_type": "stream",
          "name": "stdout",
          "text": [
            "enter the number 5\n",
            "not even\n"
          ]
        }
      ]
    },
    {
      "cell_type": "code",
      "source": [
        "#47\n",
        "#Bring this output using loops.\n",
        "#*\n",
        "#**\n",
        "#***\n",
        "#****\n",
        "#*****\n",
        "for i in range(5):\n",
        "  print('*'*(i+1))"
      ],
      "metadata": {
        "id": "TpcpR4bud9yW",
        "colab": {
          "base_uri": "https://localhost:8080/"
        },
        "outputId": "b89aa238-dcf3-4f12-ee95-77dc9373d3a4"
      },
      "execution_count": null,
      "outputs": [
        {
          "output_type": "stream",
          "name": "stdout",
          "text": [
            "*\n",
            "**\n",
            "***\n",
            "****\n",
            "*****\n"
          ]
        }
      ]
    },
    {
      "cell_type": "code",
      "source": [
        "#48\n",
        "#Write a Python program to get the Python version you are using? \n",
        "\n",
        "import sys\n",
        "\n",
        "print(\"Python version\")\n",
        "print(sys.version)\n",
        "print(\"Version info.\")\n",
        "print(sys.version_info)\n"
      ],
      "metadata": {
        "colab": {
          "base_uri": "https://localhost:8080/"
        },
        "id": "KHNcW7H5e7Uk",
        "outputId": "7d4dd78d-b5dc-435c-9971-3ee0ad87cdad"
      },
      "execution_count": null,
      "outputs": [
        {
          "output_type": "stream",
          "name": "stdout",
          "text": [
            "Python version\n",
            "3.9.16 (main, Dec  7 2022, 01:11:51) \n",
            "[GCC 9.4.0]\n",
            "Version info.\n",
            "sys.version_info(major=3, minor=9, micro=16, releaselevel='final', serial=0)\n"
          ]
        }
      ]
    },
    {
      "cell_type": "code",
      "source": [
        "#49\n",
        "#Write a python program to find prime numbers within a given interval?\n",
        "start = int(input('enter the start of the interval: '))\n",
        "end = int(input('enter the end of the interval: '))\n",
        "\n",
        "print('prime numbers between', start, 'and', end, 'are:')\n",
        "\n",
        "for num in range(start, end + 1):\n",
        "  if num > 1:\n",
        "   for i in range(2, num):\n",
        "     if (num % i) == 0:\n",
        "       break\n",
        "   else:\n",
        "       print(num)\n",
        "\n",
        "\n",
        "\n",
        " "
      ],
      "metadata": {
        "id": "ZIGPT1TofQWZ",
        "colab": {
          "base_uri": "https://localhost:8080/"
        },
        "outputId": "c1ffcec8-8c69-4687-d0a9-8e1b409cbf2a"
      },
      "execution_count": null,
      "outputs": [
        {
          "output_type": "stream",
          "name": "stdout",
          "text": [
            "enter the start of the interval: 2\n",
            "enter the end of the interval: 50\n",
            "prime numbers between 2 and 50 are:\n",
            "2\n",
            "3\n",
            "5\n",
            "7\n",
            "11\n",
            "13\n",
            "17\n",
            "19\n",
            "23\n",
            "29\n",
            "31\n",
            "37\n",
            "41\n",
            "43\n",
            "47\n"
          ]
        }
      ]
    },
    {
      "cell_type": "code",
      "source": [
        "#50\n",
        "#Find the cube root of a number in python programming?\n",
        "\n",
        "a = int(input('enter the number: '))\n",
        "\n",
        "cuberoot = a ** (1/3)\n",
        "\n",
        "print(cuberoot)"
      ],
      "metadata": {
        "colab": {
          "base_uri": "https://localhost:8080/"
        },
        "id": "s93TZXaQfYSd",
        "outputId": "724dace8-4dfc-4096-96b1-8b89dae524c2"
      },
      "execution_count": null,
      "outputs": [
        {
          "output_type": "stream",
          "name": "stdout",
          "text": [
            "enter the number: 64\n",
            "3.9999999999999996\n"
          ]
        }
      ]
    },
    {
      "cell_type": "code",
      "source": [
        "#51\n",
        "#Write a Python program that will accept the base and height of a triangle and compute the area?\n",
        "\n",
        "b = int(input('base of triangle: '))\n",
        "h = int(input('height of triangle: ')) \n",
        "\n",
        "a = 0.5 * b * h\n",
        "\n",
        "print(a)"
      ],
      "metadata": {
        "colab": {
          "base_uri": "https://localhost:8080/"
        },
        "id": "-3Ag1Yu5ga8i",
        "outputId": "b60f0244-05fa-40bd-f046-9291ae5fb791"
      },
      "execution_count": null,
      "outputs": [
        {
          "output_type": "stream",
          "name": "stdout",
          "text": [
            "base of triangle: 4\n",
            "height of triangle: 5\n",
            "10.0\n"
          ]
        }
      ]
    },
    {
      "cell_type": "code",
      "source": [
        "#52\n",
        "#Write a Python program to solve (x + y) * (x + y)?\n",
        "x = int(input('value of x: '))\n",
        "y = int(input('value of y: '))\n",
        "\n",
        "u = (x + y) * (x + y)\n",
        "u"
      ],
      "metadata": {
        "colab": {
          "base_uri": "https://localhost:8080/"
        },
        "id": "WMWxHY1bg4y9",
        "outputId": "347d7dcf-c750-42ea-b2d7-7f337eca772d"
      },
      "execution_count": null,
      "outputs": [
        {
          "name": "stdout",
          "output_type": "stream",
          "text": [
            "value of x: 9\n",
            "value of y: 10\n"
          ]
        },
        {
          "output_type": "execute_result",
          "data": {
            "text/plain": [
              "361"
            ]
          },
          "metadata": {},
          "execution_count": 1
        }
      ]
    },
    {
      "cell_type": "code",
      "source": [
        "#53\n",
        "#Write a Python program to calculate the sum of three given numbers, if the values are equal then\n",
        "#return thrice of their sum?\n",
        "\n",
        "num1 = int(input('num1: '))\n",
        "num2 = int(input('num2: '))\n",
        "num3 = int(input('num3: '))\n",
        "\n",
        "total = num1 + num2 + num3\n",
        "\n",
        "if num1 == num2 == num3:\n",
        "  total = total*3\n",
        "  print(total)\n",
        "else:\n",
        "  print(total)"
      ],
      "metadata": {
        "colab": {
          "base_uri": "https://localhost:8080/"
        },
        "id": "iEjFEP3phW0o",
        "outputId": "f6623020-ddde-4c3c-87fd-983ecc2aaa86"
      },
      "execution_count": null,
      "outputs": [
        {
          "output_type": "stream",
          "name": "stdout",
          "text": [
            "num1: 4\n",
            "num2: 4\n",
            "num3: 4\n",
            "36\n"
          ]
        }
      ]
    },
    {
      "cell_type": "code",
      "source": [
        "#54\n",
        "#Write a Python program to compute the distance between the points (x1, y1) and (x2, y2)?\n",
        "\n",
        "import math\n",
        "\n",
        "x1 = int(input('x1: '))\n",
        "x2 = int(input('x2: '))\n",
        "y1 = int(input('y1: '))\n",
        "y2 = int(input('y2: '))\n",
        "\n",
        "dist = math.sqrt((x2 - x1)**2 + (y2 - y1)**2)\n",
        "\n",
        "dist"
      ],
      "metadata": {
        "colab": {
          "base_uri": "https://localhost:8080/"
        },
        "id": "sjvBnD7Sjf6X",
        "outputId": "9627dac8-d2ad-4287-8bb4-89da0825bdb2"
      },
      "execution_count": null,
      "outputs": [
        {
          "name": "stdout",
          "output_type": "stream",
          "text": [
            "x1: 6\n",
            "x2: 7\n",
            "y1: 8\n",
            "y2: 9\n"
          ]
        },
        {
          "output_type": "execute_result",
          "data": {
            "text/plain": [
              "1.4142135623730951"
            ]
          },
          "metadata": {},
          "execution_count": 4
        }
      ]
    },
    {
      "cell_type": "code",
      "source": [
        "#55\n",
        "#Write a Python program to calculate body mass index?\n",
        "\n",
        "h = float(input('enter your height in meters: '))\n",
        "w = float(input('enter your weight in kilograms: '))\n",
        "\n",
        "bmi = w / (h ** 2)\n",
        "\n",
        "print('Your body mass index (BMI) is:', round(bmi, 2))\n",
        "\n",
        "if bmi < 18.5:\n",
        "    print('you are underweight ')\n",
        "elif bmi >= 18.5 and bmi < 25:\n",
        "    print('you are of normal weight')\n",
        "elif bmi >= 25 and bmi < 30:\n",
        "    print('you are overweight ')\n",
        "else:\n",
        "    print('you are obese')\n"
      ],
      "metadata": {
        "colab": {
          "base_uri": "https://localhost:8080/"
        },
        "id": "8EgQWxsjl7yb",
        "outputId": "ef488c88-7bb0-4879-b548-e68822513c04"
      },
      "execution_count": null,
      "outputs": [
        {
          "output_type": "stream",
          "name": "stdout",
          "text": [
            "enter your height in meters: 1.80\n",
            "enter your weight in kilograms: 76\n",
            "Your body mass index (BMI) is: 23.46\n",
            "you are of normal weight\n"
          ]
        }
      ]
    },
    {
      "cell_type": "code",
      "source": [
        "#56\n",
        "#Write a Python program to filter the positive numbers from a list?\n",
        "\n",
        "numbers = [1, -9, 3, -4, 5, -6, 7, -33, 9, -11]\n",
        "positive_numbers = []\n",
        "\n",
        "for num in numbers:\n",
        "    if num > 0:\n",
        "        positive_numbers.append(num)\n",
        "\n",
        "print(\"Positive numbers in the list:\", positive_numbers)\n"
      ],
      "metadata": {
        "colab": {
          "base_uri": "https://localhost:8080/"
        },
        "id": "EA5BQUbwmu1U",
        "outputId": "b1380dd3-8cdd-4871-e0c5-150e86645c4a"
      },
      "execution_count": null,
      "outputs": [
        {
          "output_type": "stream",
          "name": "stdout",
          "text": [
            "Positive numbers in the list: [1, 3, 5, 7, 9]\n"
          ]
        }
      ]
    },
    {
      "cell_type": "code",
      "source": [
        "#57\n",
        "#Write a Python program to test if a variable is a list or tuple or a set?\n",
        "# define a sample list, tuple, and set\n",
        "a = [1, 2, 3]\n",
        "b = (4, 5, 6)\n",
        "c = {7, 8, 9}\n",
        "\n",
        "# check if each variable is a list, tuple, or set\n",
        "if isinstance(a, list):\n",
        "    print('a is a list')\n",
        "\n",
        "if isinstance(b, tuple):\n",
        "    print('b is a tuple')\n",
        "\n",
        "if isinstance(c, set):\n",
        "    print('c is a set')\n"
      ],
      "metadata": {
        "id": "1D-bLMnVn9Z9",
        "colab": {
          "base_uri": "https://localhost:8080/"
        },
        "outputId": "84ee32cb-8a21-428b-daa9-dc1160228efc"
      },
      "execution_count": null,
      "outputs": [
        {
          "output_type": "stream",
          "name": "stdout",
          "text": [
            "a is a list\n",
            "b is a tuple\n",
            "c is a set\n"
          ]
        }
      ]
    },
    {
      "cell_type": "code",
      "source": [
        "#58\n",
        "#Write a Python program to check if a number is positive, negative or zero?\n",
        "\n",
        "num = float(input(\"Enter a number: \"))\n",
        "if num > 0:\n",
        "    print(\"The number is positive\")\n",
        "elif num == 0:\n",
        "    print(\"The number is zero\")\n",
        "else:\n",
        "    print(\"The number is negative\")\n"
      ],
      "metadata": {
        "colab": {
          "base_uri": "https://localhost:8080/"
        },
        "id": "tZ7RYVH3oC7T",
        "outputId": "f5d74447-adcb-4171-fbb3-65a62762877d"
      },
      "execution_count": null,
      "outputs": [
        {
          "output_type": "stream",
          "name": "stdout",
          "text": [
            "Enter a number: -20\n",
            "The number is negative\n"
          ]
        }
      ]
    },
    {
      "cell_type": "code",
      "source": [
        "#58\n",
        "#Write a Python program to test whether a passed letter is a vowel or not?\n",
        "\n",
        "letter = input(\"Enter a letter: \")\n",
        "\n",
        "if letter in ['a', 'e', 'i', 'o', 'u']:\n",
        "    print(\"The letter is a vowel.\")\n",
        "else:\n",
        "    print(\"The letter is not a vowel.\")\n"
      ],
      "metadata": {
        "id": "PgC8pfw5oSQa",
        "colab": {
          "base_uri": "https://localhost:8080/"
        },
        "outputId": "ec2ae6f0-0ff2-4c80-b8c2-806dae3b13d0"
      },
      "execution_count": null,
      "outputs": [
        {
          "output_type": "stream",
          "name": "stdout",
          "text": [
            "Enter a letter: k\n",
            "The letter is not a vowel.\n"
          ]
        }
      ]
    },
    {
      "cell_type": "code",
      "source": [
        "#59\n",
        "#Write a program to display the multiplication table of a given number?\n",
        "\n",
        "num = int(input(\"Enter a number: \"))\n",
        "\n",
        "for i in range(1, 11):\n",
        "   print(num, 'x', i, '=', num*i)\n"
      ],
      "metadata": {
        "colab": {
          "base_uri": "https://localhost:8080/"
        },
        "id": "U-wF_61Cofu6",
        "outputId": "0ddb8a45-4463-46c7-a490-1129dfabd1f8"
      },
      "execution_count": null,
      "outputs": [
        {
          "output_type": "stream",
          "name": "stdout",
          "text": [
            "Enter a number: 5\n",
            "5 x 1 = 5\n",
            "5 x 2 = 10\n",
            "5 x 3 = 15\n",
            "5 x 4 = 20\n",
            "5 x 5 = 25\n",
            "5 x 6 = 30\n",
            "5 x 7 = 35\n",
            "5 x 8 = 40\n",
            "5 x 9 = 45\n",
            "5 x 10 = 50\n"
          ]
        }
      ]
    },
    {
      "cell_type": "code",
      "source": [
        "#60\n",
        "#Write a program to add two matrices using loops?\n",
        "\n",
        "a = [[2,3,5],\n",
        "     [6,7,8],\n",
        "     [9,10,11]]\n",
        "     \n",
        "\n",
        "b = [[12,13,14],\n",
        "     [15,16,17],\n",
        "     [18,19,20]]\n",
        "\n",
        "result= [[0,0,0,],\n",
        "         [0,0,0],\n",
        "         [0,0,0]]\n",
        "for i in range(len(a)):\n",
        "  for j in range(len(a[0])):\n",
        "    result[i][j]= a[i][j] + b[i][j]\n",
        "\n",
        "for r in result:\n",
        "  print(r)    \n",
        "\n"
      ],
      "metadata": {
        "id": "PPVaheRQo0U3",
        "colab": {
          "base_uri": "https://localhost:8080/"
        },
        "outputId": "b9c01e67-e82f-4fd1-925e-65d4408be057"
      },
      "execution_count": null,
      "outputs": [
        {
          "output_type": "stream",
          "name": "stdout",
          "text": [
            "[14, 16, 19]\n",
            "[21, 23, 25]\n",
            "[27, 29, 31]\n"
          ]
        }
      ]
    }
  ]
}