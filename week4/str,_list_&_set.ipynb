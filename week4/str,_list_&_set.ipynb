{
  "nbformat": 4,
  "nbformat_minor": 0,
  "metadata": {
    "colab": {
      "provenance": []
    },
    "kernelspec": {
      "name": "python3",
      "display_name": "Python 3"
    },
    "language_info": {
      "name": "python"
    }
  },
  "cells": [
    {
      "cell_type": "markdown",
      "source": [
        "#String"
      ],
      "metadata": {
        "id": "TpZznFEEpMrh"
      }
    },
    {
      "cell_type": "code",
      "execution_count": 1,
      "metadata": {
        "colab": {
          "base_uri": "https://localhost:8080/"
        },
        "id": "2fQ2OnCyoPf_",
        "outputId": "e13c7813-b33b-494c-b4e4-a4bd362e1a88"
      },
      "outputs": [
        {
          "output_type": "stream",
          "name": "stdout",
          "text": [
            " hello world\n"
          ]
        }
      ],
      "source": [
        "string = ' hello world'\n",
        "print(string)"
      ]
    },
    {
      "cell_type": "code",
      "source": [
        "#concatinating strings\n",
        "\n",
        "s1 = 'hi, shazan'\n",
        "s2 = ' u are amazing'\n",
        "\n",
        "con_string = s1 + s2\n",
        "print(con_string)"
      ],
      "metadata": {
        "colab": {
          "base_uri": "https://localhost:8080/"
        },
        "id": "dkczD9s3pctU",
        "outputId": "0c8629bf-9d81-4a5a-f0eb-4bbe611a83ae"
      },
      "execution_count": 3,
      "outputs": [
        {
          "output_type": "stream",
          "name": "stdout",
          "text": [
            "hi, shazan u are amazing\n"
          ]
        }
      ]
    },
    {
      "cell_type": "code",
      "source": [
        "#accessing string\n",
        "\n",
        "s = 'richansar'\n",
        "print(s[0])\n",
        "print(s[-2])\n",
        "\n",
        "# Positive indexing\n",
        "\n",
        "print(s[1])\n",
        "print(s[5])\n",
        "\n",
        "# Negative indexing\n",
        "print(s[-3])\n",
        "print(s[-6])"
      ],
      "metadata": {
        "colab": {
          "base_uri": "https://localhost:8080/"
        },
        "id": "dzFFp7Pzp4X3",
        "outputId": "e584cf2a-85db-491f-e5b0-1cafd145f577"
      },
      "execution_count": 14,
      "outputs": [
        {
          "output_type": "stream",
          "name": "stdout",
          "text": [
            "r\n",
            "a\n",
            "i\n",
            "n\n",
            "s\n",
            "h\n"
          ]
        }
      ]
    },
    {
      "cell_type": "code",
      "source": [
        "#length of string\n",
        "s = 'wintrap'\n",
        "l = len(s)\n",
        "print(l)"
      ],
      "metadata": {
        "colab": {
          "base_uri": "https://localhost:8080/"
        },
        "id": "sToSig76qJq2",
        "outputId": "f61542a9-0648-4204-86d8-83604ae40233"
      },
      "execution_count": 5,
      "outputs": [
        {
          "output_type": "stream",
          "name": "stdout",
          "text": [
            "7\n"
          ]
        }
      ]
    },
    {
      "cell_type": "code",
      "source": [
        "#upper case and lower case\n",
        "s = 'wintrap'\n",
        "\n",
        "c = s.capitalize()\n",
        "u = s.upper()\n",
        "l = s.lower()\n",
        "print(c,'\\n',u,'\\n',l)"
      ],
      "metadata": {
        "colab": {
          "base_uri": "https://localhost:8080/"
        },
        "id": "5Wk_yWCjqXnC",
        "outputId": "ba7a3ac8-12b7-4545-c190-9a939378f980"
      },
      "execution_count": 7,
      "outputs": [
        {
          "output_type": "stream",
          "name": "stdout",
          "text": [
            "Wintrap \n",
            " WINTRAP \n",
            " wintrap\n"
          ]
        }
      ]
    },
    {
      "cell_type": "code",
      "source": [
        "#spliting the string\n",
        "s = 'hi ansar welcome to DS world'\n",
        "sub = s.split(',')\n",
        "print(sub)\n"
      ],
      "metadata": {
        "colab": {
          "base_uri": "https://localhost:8080/"
        },
        "id": "G0W3RZRMq6xA",
        "outputId": "8a6ff5c1-43e5-4ac6-9a56-7e24302de84a"
      },
      "execution_count": 8,
      "outputs": [
        {
          "output_type": "stream",
          "name": "stdout",
          "text": [
            "['hi ansar welcome to DS world']\n"
          ]
        }
      ]
    },
    {
      "cell_type": "code",
      "source": [
        "s = 'shazan '\n",
        "s*5#escape character"
      ],
      "metadata": {
        "colab": {
          "base_uri": "https://localhost:8080/",
          "height": 35
        },
        "id": "ZxR_qg2urZvQ",
        "outputId": "4600c09b-75e5-4ef7-de82-ad131784a97f"
      },
      "execution_count": 13,
      "outputs": [
        {
          "output_type": "execute_result",
          "data": {
            "text/plain": [
              "'shazan shazan shazan shazan shazan '"
            ],
            "application/vnd.google.colaboratory.intrinsic+json": {
              "type": "string"
            }
          },
          "metadata": {},
          "execution_count": 13
        }
      ]
    },
    {
      "cell_type": "code",
      "source": [
        "#reverse\n",
        "s = 'shazan'\n",
        "s[::-1]"
      ],
      "metadata": {
        "colab": {
          "base_uri": "https://localhost:8080/",
          "height": 35
        },
        "id": "VmhviAHZr7PL",
        "outputId": "a44ba3cc-8d73-4d7a-b60f-25ee610ec529"
      },
      "execution_count": 15,
      "outputs": [
        {
          "output_type": "execute_result",
          "data": {
            "text/plain": [
              "'nazahs'"
            ],
            "application/vnd.google.colaboratory.intrinsic+json": {
              "type": "string"
            }
          },
          "metadata": {},
          "execution_count": 15
        }
      ]
    },
    {
      "cell_type": "markdown",
      "source": [
        "#List"
      ],
      "metadata": {
        "id": "SmgfHORdszYS"
      }
    },
    {
      "cell_type": "code",
      "source": [
        "s = list([1,2,3,4,5])\n",
        "s"
      ],
      "metadata": {
        "colab": {
          "base_uri": "https://localhost:8080/"
        },
        "id": "PBl2i2tGsqwf",
        "outputId": "a540204d-f059-49b3-e7e0-ecd25a0fba0f"
      },
      "execution_count": 18,
      "outputs": [
        {
          "output_type": "execute_result",
          "data": {
            "text/plain": [
              "[1, 2, 3, 4, 5]"
            ]
          },
          "metadata": {},
          "execution_count": 18
        }
      ]
    },
    {
      "cell_type": "code",
      "source": [
        "print(type(s))"
      ],
      "metadata": {
        "colab": {
          "base_uri": "https://localhost:8080/"
        },
        "id": "-g5cPYOytJHK",
        "outputId": "4d20f006-8a2a-4837-ab14-e125fa7041a1"
      },
      "execution_count": 19,
      "outputs": [
        {
          "output_type": "stream",
          "name": "stdout",
          "text": [
            "<class 'list'>\n"
          ]
        }
      ]
    },
    {
      "cell_type": "code",
      "source": [
        "s = [-1,2.9,1+6j,'rich',[6,2],(-2,3),{2,-3},{11:2}]\n",
        "s"
      ],
      "metadata": {
        "colab": {
          "base_uri": "https://localhost:8080/"
        },
        "id": "x6bz9a3AtMWL",
        "outputId": "a59bbe66-808e-4670-9d1c-866342e3ac88"
      },
      "execution_count": 21,
      "outputs": [
        {
          "output_type": "execute_result",
          "data": {
            "text/plain": [
              "[-1, 2.9, (1+6j), 'rich', [6, 2], (-2, 3), {-3, 2}, {11: 2}]"
            ]
          },
          "metadata": {},
          "execution_count": 21
        }
      ]
    },
    {
      "cell_type": "code",
      "source": [
        "s = [2,3]\n",
        "s*3"
      ],
      "metadata": {
        "colab": {
          "base_uri": "https://localhost:8080/"
        },
        "id": "v7qcNK-vtbJ0",
        "outputId": "8f47071c-15e6-410c-a250-275a66d30b9b"
      },
      "execution_count": 22,
      "outputs": [
        {
          "output_type": "execute_result",
          "data": {
            "text/plain": [
              "[2, 3, 2, 3, 2, 3]"
            ]
          },
          "metadata": {},
          "execution_count": 22
        }
      ]
    },
    {
      "cell_type": "code",
      "source": [
        "#index\n",
        "a = [1,2,3,4,5]\n",
        "# positive indexing\n",
        "a[2]\n",
        "# negative indexing\n",
        "a[-2]\n",
        "\n",
        "# slicing\n",
        "a[::2]"
      ],
      "metadata": {
        "colab": {
          "base_uri": "https://localhost:8080/"
        },
        "id": "005vWbDXwNHu",
        "outputId": "77172fab-c65b-4195-f296-6643355e1e7a"
      },
      "execution_count": 23,
      "outputs": [
        {
          "output_type": "execute_result",
          "data": {
            "text/plain": [
              "[1, 3, 5]"
            ]
          },
          "metadata": {},
          "execution_count": 23
        }
      ]
    },
    {
      "cell_type": "code",
      "source": [
        "a = [1,2,3,4,5]\n",
        "a.append(6)\n",
        "a"
      ],
      "metadata": {
        "colab": {
          "base_uri": "https://localhost:8080/"
        },
        "id": "Ig94gPx4wTXd",
        "outputId": "1ea0035c-51d6-4274-cb66-241d6dc314a0"
      },
      "execution_count": 25,
      "outputs": [
        {
          "output_type": "execute_result",
          "data": {
            "text/plain": [
              "[1, 2, 3, 4, 5, 6]"
            ]
          },
          "metadata": {},
          "execution_count": 25
        }
      ]
    },
    {
      "cell_type": "code",
      "source": [
        "a.append([7,8,9])\n",
        "a"
      ],
      "metadata": {
        "colab": {
          "base_uri": "https://localhost:8080/"
        },
        "id": "2aZ23nw6waeZ",
        "outputId": "fbc4c98c-4a3c-4f8a-840e-57f4d97114a5"
      },
      "execution_count": 26,
      "outputs": [
        {
          "output_type": "execute_result",
          "data": {
            "text/plain": [
              "[1, 2, 3, 4, 5, 6, [7, 8, 9]]"
            ]
          },
          "metadata": {},
          "execution_count": 26
        }
      ]
    },
    {
      "cell_type": "code",
      "source": [
        "a.extend([10,11,12,13])\n",
        "a"
      ],
      "metadata": {
        "colab": {
          "base_uri": "https://localhost:8080/"
        },
        "id": "cf259VDkwgKv",
        "outputId": "f78c0161-719c-4d38-eac7-f01ad59eebca"
      },
      "execution_count": 27,
      "outputs": [
        {
          "output_type": "execute_result",
          "data": {
            "text/plain": [
              "[1, 2, 3, 4, 5, 6, [7, 8, 9], 10, 11, 12, 13]"
            ]
          },
          "metadata": {},
          "execution_count": 27
        }
      ]
    },
    {
      "cell_type": "code",
      "source": [
        "a.insert(10,[1,2,3,4,5])\n",
        "a"
      ],
      "metadata": {
        "colab": {
          "base_uri": "https://localhost:8080/"
        },
        "id": "bECXTXnYwh-F",
        "outputId": "bdf50d72-353b-40eb-b2db-9bb4936b4b6d"
      },
      "execution_count": 28,
      "outputs": [
        {
          "output_type": "execute_result",
          "data": {
            "text/plain": [
              "[1, 2, 3, 4, 5, 6, [7, 8, 9], 10, 11, 12, [1, 2, 3, 4, 5], 13]"
            ]
          },
          "metadata": {},
          "execution_count": 28
        }
      ]
    },
    {
      "cell_type": "code",
      "source": [
        "a = [1,2]\n",
        "b = [3,4]\n",
        "c = a+b\n",
        "c"
      ],
      "metadata": {
        "colab": {
          "base_uri": "https://localhost:8080/"
        },
        "id": "JeA4FYGQwnQH",
        "outputId": "d5cd390b-0de3-46a2-b8bb-ff024ca5e152"
      },
      "execution_count": 29,
      "outputs": [
        {
          "output_type": "execute_result",
          "data": {
            "text/plain": [
              "[1, 2, 3, 4]"
            ]
          },
          "metadata": {},
          "execution_count": 29
        }
      ]
    },
    {
      "cell_type": "code",
      "source": [
        "a = [1,2,3,4,5]\n",
        "a.clear()\n",
        "a"
      ],
      "metadata": {
        "colab": {
          "base_uri": "https://localhost:8080/"
        },
        "id": "jZXNzfpMwqjj",
        "outputId": "c70c6610-c0eb-4517-f844-ae0c064d4c28"
      },
      "execution_count": 30,
      "outputs": [
        {
          "output_type": "execute_result",
          "data": {
            "text/plain": [
              "[]"
            ]
          },
          "metadata": {},
          "execution_count": 30
        }
      ]
    },
    {
      "cell_type": "code",
      "source": [
        "a = [1,2,3,4,5,6]\n",
        "a.pop(4)\n",
        "a\n"
      ],
      "metadata": {
        "colab": {
          "base_uri": "https://localhost:8080/"
        },
        "id": "V4H7FyCCw0qK",
        "outputId": "b2a07ce6-e402-4af5-94a5-c9d209baad12"
      },
      "execution_count": 34,
      "outputs": [
        {
          "output_type": "execute_result",
          "data": {
            "text/plain": [
              "[1, 2, 3, 4, 6]"
            ]
          },
          "metadata": {},
          "execution_count": 34
        }
      ]
    },
    {
      "cell_type": "code",
      "source": [
        "a = [1,2,3,4,5,6]\n",
        "a[2] = 30 #replace\n",
        "a"
      ],
      "metadata": {
        "colab": {
          "base_uri": "https://localhost:8080/"
        },
        "id": "2Blc-q5lxCIJ",
        "outputId": "3d1012b4-aaa6-41d3-d051-7d89715c4a93"
      },
      "execution_count": 35,
      "outputs": [
        {
          "output_type": "execute_result",
          "data": {
            "text/plain": [
              "[1, 2, 30, 4, 5, 6]"
            ]
          },
          "metadata": {},
          "execution_count": 35
        }
      ]
    },
    {
      "cell_type": "code",
      "source": [
        "a = [1,2,3,4,5]\n",
        "b = a\n",
        "print(id(a))\n",
        "print(id(b))\n",
        "a.append(6)\n",
        "#b=a have same positions ids and repeat list\n",
        "print(a,b)"
      ],
      "metadata": {
        "colab": {
          "base_uri": "https://localhost:8080/"
        },
        "id": "026DGcg9xFVF",
        "outputId": "3d36308c-e65b-4aee-d49a-f786d4be8741"
      },
      "execution_count": 36,
      "outputs": [
        {
          "output_type": "stream",
          "name": "stdout",
          "text": [
            "140595908865536\n",
            "140595908865536\n",
            "[1, 2, 3, 4, 5, 6] [1, 2, 3, 4, 5, 6]\n"
          ]
        }
      ]
    },
    {
      "cell_type": "code",
      "source": [
        "a = [1,1,2,2,3,3,4,4,4,4,4,4,4]\n",
        "a.count(4)"
      ],
      "metadata": {
        "colab": {
          "base_uri": "https://localhost:8080/"
        },
        "id": "sPRse8U_xkJ9",
        "outputId": "a7d72f07-ad90-4ad0-ad2b-7752379089c1"
      },
      "execution_count": 38,
      "outputs": [
        {
          "output_type": "execute_result",
          "data": {
            "text/plain": [
              "7"
            ]
          },
          "metadata": {},
          "execution_count": 38
        }
      ]
    },
    {
      "cell_type": "code",
      "source": [
        "a = ['10','21','43','41','05']\n",
        "a.sort()\n",
        "a"
      ],
      "metadata": {
        "colab": {
          "base_uri": "https://localhost:8080/"
        },
        "id": "2t1L7H4BxtBK",
        "outputId": "e4ef3cbb-b392-4cb3-dcdc-dc877fb8881c"
      },
      "execution_count": 39,
      "outputs": [
        {
          "output_type": "execute_result",
          "data": {
            "text/plain": [
              "['05', '1', '21', '41', '43']"
            ]
          },
          "metadata": {},
          "execution_count": 39
        }
      ]
    },
    {
      "cell_type": "code",
      "source": [
        "a = ['1','2', 'rich','ansar']\n",
        "a.sort()\n",
        "a"
      ],
      "metadata": {
        "colab": {
          "base_uri": "https://localhost:8080/"
        },
        "id": "XU-mqyIgx0PJ",
        "outputId": "1d9eb30c-08be-4987-d4b7-85f02ef0afdc"
      },
      "execution_count": 41,
      "outputs": [
        {
          "output_type": "execute_result",
          "data": {
            "text/plain": [
              "['1', '2', 'ansar', 'rich']"
            ]
          },
          "metadata": {},
          "execution_count": 41
        }
      ]
    },
    {
      "cell_type": "code",
      "source": [
        "a = [22,33,5,6,7,9,11] \n",
        "print(sum(a))\n",
        "print(min(a))\n",
        "print(max(a))"
      ],
      "metadata": {
        "colab": {
          "base_uri": "https://localhost:8080/"
        },
        "id": "nBw-AQfwyAzk",
        "outputId": "b9d62679-4e78-403a-8bc3-38a0acd2c8fb"
      },
      "execution_count": 42,
      "outputs": [
        {
          "output_type": "stream",
          "name": "stdout",
          "text": [
            "93\n",
            "5\n",
            "33\n"
          ]
        }
      ]
    },
    {
      "cell_type": "code",
      "source": [
        "a = [22,33,5,6,7,9,11] \n",
        "# list(enumerate(a))\n",
        "list(enumerate(a,10))"
      ],
      "metadata": {
        "colab": {
          "base_uri": "https://localhost:8080/"
        },
        "id": "q3ADR9f7yHCh",
        "outputId": "6c4c51b9-92b3-4870-83e9-50f39a5f4c93"
      },
      "execution_count": 43,
      "outputs": [
        {
          "output_type": "execute_result",
          "data": {
            "text/plain": [
              "[(10, 22), (11, 33), (12, 5), (13, 6), (14, 7), (15, 9), (16, 11)]"
            ]
          },
          "metadata": {},
          "execution_count": 43
        }
      ]
    },
    {
      "cell_type": "markdown",
      "source": [
        "#Set"
      ],
      "metadata": {
        "id": "5cslGNmryYMM"
      }
    },
    {
      "cell_type": "code",
      "source": [
        "a = {1,2,3,4,5}\n",
        "type(a)"
      ],
      "metadata": {
        "colab": {
          "base_uri": "https://localhost:8080/"
        },
        "id": "Poi0QYi6yWzo",
        "outputId": "edf44cd9-df9d-41b6-8f72-abfecfd75a53"
      },
      "execution_count": 44,
      "outputs": [
        {
          "output_type": "execute_result",
          "data": {
            "text/plain": [
              "set"
            ]
          },
          "metadata": {},
          "execution_count": 44
        }
      ]
    },
    {
      "cell_type": "code",
      "source": [
        "a = set({1,2,3,4,5})\n",
        "type(a)"
      ],
      "metadata": {
        "colab": {
          "base_uri": "https://localhost:8080/"
        },
        "id": "a83DGKr2yys_",
        "outputId": "12851159-c8f6-4d6f-95c4-a961d0a6d9fe"
      },
      "execution_count": 45,
      "outputs": [
        {
          "output_type": "execute_result",
          "data": {
            "text/plain": [
              "set"
            ]
          },
          "metadata": {},
          "execution_count": 45
        }
      ]
    },
    {
      "cell_type": "code",
      "source": [
        "a= {1,2.3,'5.6',True,False,0}\n",
        "a"
      ],
      "metadata": {
        "colab": {
          "base_uri": "https://localhost:8080/"
        },
        "id": "Km_HuLYPy1sM",
        "outputId": "502f11fb-59f1-49dc-e8bf-b444aa904b9e"
      },
      "execution_count": 46,
      "outputs": [
        {
          "output_type": "execute_result",
          "data": {
            "text/plain": [
              "{1, 2.3, '5.6', False}"
            ]
          },
          "metadata": {},
          "execution_count": 46
        }
      ]
    },
    {
      "cell_type": "code",
      "source": [
        "a = {1,1,1,2,2,2,3,3,4,5,}\n",
        "a"
      ],
      "metadata": {
        "colab": {
          "base_uri": "https://localhost:8080/"
        },
        "id": "rmm-U0NPy8f9",
        "outputId": "b6ac42e5-b1d3-460d-8612-586d50902c6e"
      },
      "execution_count": 47,
      "outputs": [
        {
          "output_type": "execute_result",
          "data": {
            "text/plain": [
              "{1, 2, 3, 4, 5}"
            ]
          },
          "metadata": {},
          "execution_count": 47
        }
      ]
    },
    {
      "cell_type": "code",
      "source": [
        "a = {1,1,1,2,2,2,3,3,4,5,}\n",
        "a.add(6) #adding\n",
        "a"
      ],
      "metadata": {
        "colab": {
          "base_uri": "https://localhost:8080/"
        },
        "id": "u5izdD7uzAaP",
        "outputId": "37f39da0-13fa-4dd5-ba90-0d1bd6146e68"
      },
      "execution_count": 49,
      "outputs": [
        {
          "output_type": "execute_result",
          "data": {
            "text/plain": [
              "{1, 2, 3, 4, 5, 6}"
            ]
          },
          "metadata": {},
          "execution_count": 49
        }
      ]
    },
    {
      "cell_type": "code",
      "source": [
        "a = {1,1,1,2,2,2,3,3,4,5,}\n",
        "b= {6,7,8,9}\n",
        "c = a.union(b) #union\n",
        "c"
      ],
      "metadata": {
        "colab": {
          "base_uri": "https://localhost:8080/"
        },
        "id": "aTpNvQuXzHbs",
        "outputId": "230f070e-5ca5-4f77-e93e-da5724ed85e8"
      },
      "execution_count": 50,
      "outputs": [
        {
          "output_type": "execute_result",
          "data": {
            "text/plain": [
              "{1, 2, 3, 4, 5, 6, 7, 8, 9}"
            ]
          },
          "metadata": {},
          "execution_count": 50
        }
      ]
    },
    {
      "cell_type": "code",
      "source": [
        "a = {1,1,1,2,2,2,3,3,4,5,}\n",
        "b= {6,7,8,9}\n",
        "a.update(b) #update\n",
        "a"
      ],
      "metadata": {
        "colab": {
          "base_uri": "https://localhost:8080/"
        },
        "id": "aSb0ZpWMzLNH",
        "outputId": "44efee9c-0328-40cc-d8dd-a697d853e3e6"
      },
      "execution_count": 51,
      "outputs": [
        {
          "output_type": "execute_result",
          "data": {
            "text/plain": [
              "{1, 2, 3, 4, 5, 6, 7, 8, 9}"
            ]
          },
          "metadata": {},
          "execution_count": 51
        }
      ]
    },
    {
      "cell_type": "code",
      "source": [
        "a = {1,1,1,2,2,2,3,3,4,5,}\n",
        "a.remove(2)\n",
        "a #remove\n"
      ],
      "metadata": {
        "colab": {
          "base_uri": "https://localhost:8080/"
        },
        "id": "9fzRHRalzP1P",
        "outputId": "75980a17-9f56-428b-9717-2956553bd2cc"
      },
      "execution_count": 53,
      "outputs": [
        {
          "output_type": "execute_result",
          "data": {
            "text/plain": [
              "{1, 3, 4, 5}"
            ]
          },
          "metadata": {},
          "execution_count": 53
        }
      ]
    },
    {
      "cell_type": "code",
      "source": [
        "a = {1,1,1,2,2,2,3,3,4,5,}\n",
        "a.discard(3) #discard\n",
        "a"
      ],
      "metadata": {
        "colab": {
          "base_uri": "https://localhost:8080/"
        },
        "id": "YbVPksaCzfqg",
        "outputId": "883adf95-7433-4703-ec8e-8bbbe4bf13a2"
      },
      "execution_count": 54,
      "outputs": [
        {
          "output_type": "execute_result",
          "data": {
            "text/plain": [
              "{1, 2, 4, 5}"
            ]
          },
          "metadata": {},
          "execution_count": 54
        }
      ]
    },
    {
      "cell_type": "code",
      "source": [
        "a = {1,1,1,2,2,2,3,3,4,5,}\n",
        "\n",
        "a.clear() #clear\n",
        "a"
      ],
      "metadata": {
        "colab": {
          "base_uri": "https://localhost:8080/"
        },
        "id": "R0S85bFtznI3",
        "outputId": "f67dab45-c1b8-43d1-8b72-d84dc3957f9e"
      },
      "execution_count": 55,
      "outputs": [
        {
          "output_type": "execute_result",
          "data": {
            "text/plain": [
              "set()"
            ]
          },
          "metadata": {},
          "execution_count": 55
        }
      ]
    },
    {
      "cell_type": "code",
      "source": [
        "a = {1,1,1,2,2,3,4,5,6,7,8}\n",
        "b= {6,7,8,9}\n",
        "# a = a.difference(b)\n",
        "a.difference_update(b)\n",
        "a"
      ],
      "metadata": {
        "colab": {
          "base_uri": "https://localhost:8080/"
        },
        "id": "7tuWFbXWzvIU",
        "outputId": "331b9da3-2892-4b96-ea73-8b6c779c98e8"
      },
      "execution_count": 56,
      "outputs": [
        {
          "output_type": "execute_result",
          "data": {
            "text/plain": [
              "{1, 2, 3, 4, 5}"
            ]
          },
          "metadata": {},
          "execution_count": 56
        }
      ]
    },
    {
      "cell_type": "code",
      "source": [
        "a = {1,1,1,2,2,3,4,5,6,7,8}\n",
        "b= {6,7,8,9}\n",
        "# a = a.intersection(b)\n",
        "a.intersection_update(b)\n",
        "a"
      ],
      "metadata": {
        "colab": {
          "base_uri": "https://localhost:8080/"
        },
        "id": "cjV5FkOdzyzO",
        "outputId": "6d70a3ea-edc0-4b87-d4a3-62620b533b8f"
      },
      "execution_count": 57,
      "outputs": [
        {
          "output_type": "execute_result",
          "data": {
            "text/plain": [
              "{6, 7, 8}"
            ]
          },
          "metadata": {},
          "execution_count": 57
        }
      ]
    },
    {
      "cell_type": "code",
      "source": [
        "a = {1,1,1,2,2,3,4,5,6,7,8}\n",
        "b= {6,7,8,9}\n",
        "a.symmetric_difference(b)\n",
        "a"
      ],
      "metadata": {
        "colab": {
          "base_uri": "https://localhost:8080/"
        },
        "id": "maDMPLKTz4Fy",
        "outputId": "820a45f3-8c67-45c0-8636-9c9db87e8da5"
      },
      "execution_count": 59,
      "outputs": [
        {
          "output_type": "execute_result",
          "data": {
            "text/plain": [
              "{1, 2, 3, 4, 5, 6, 7, 8}"
            ]
          },
          "metadata": {},
          "execution_count": 59
        }
      ]
    },
    {
      "cell_type": "code",
      "source": [
        "a = {1,1,1,2,2,3,4,5}\n",
        "b= {9}\n",
        "a.isdisjoint(b)"
      ],
      "metadata": {
        "colab": {
          "base_uri": "https://localhost:8080/"
        },
        "id": "xZ-J2XAV0CBc",
        "outputId": "96835054-eafa-41ee-eaee-e3a1522d6320"
      },
      "execution_count": 60,
      "outputs": [
        {
          "output_type": "execute_result",
          "data": {
            "text/plain": [
              "True"
            ]
          },
          "metadata": {},
          "execution_count": 60
        }
      ]
    },
    {
      "cell_type": "code",
      "source": [
        "a = {1,1,1,2,2,3,4,5,6,7,8}\n",
        "b= {6,7,8,9,10}\n",
        "a.issubset(b)"
      ],
      "metadata": {
        "colab": {
          "base_uri": "https://localhost:8080/"
        },
        "id": "8Zit-7Mw0GR3",
        "outputId": "4b84efec-98c1-44c0-dc51-435df973947e"
      },
      "execution_count": 61,
      "outputs": [
        {
          "output_type": "execute_result",
          "data": {
            "text/plain": [
              "False"
            ]
          },
          "metadata": {},
          "execution_count": 61
        }
      ]
    },
    {
      "cell_type": "code",
      "source": [
        "a = {1,1,1,2,2,3,4,5,6,7,8}\n",
        "b= {6,7,8,9,10}\n",
        "b.issubset(a)"
      ],
      "metadata": {
        "colab": {
          "base_uri": "https://localhost:8080/"
        },
        "id": "pxlXag250OGG",
        "outputId": "dbbb79af-007d-470d-d428-07a162ed8f9b"
      },
      "execution_count": 62,
      "outputs": [
        {
          "output_type": "execute_result",
          "data": {
            "text/plain": [
              "False"
            ]
          },
          "metadata": {},
          "execution_count": 62
        }
      ]
    },
    {
      "cell_type": "code",
      "source": [
        "a = {1,1,1,2,2,3,4,5,6,7,8}\n",
        "b= {6,7,8,9,10}\n",
        "a.issuperset(b)"
      ],
      "metadata": {
        "colab": {
          "base_uri": "https://localhost:8080/"
        },
        "id": "aEaB_H7m0T0f",
        "outputId": "a683e2ae-a084-4543-dcd7-11622898dbf2"
      },
      "execution_count": 63,
      "outputs": [
        {
          "output_type": "execute_result",
          "data": {
            "text/plain": [
              "False"
            ]
          },
          "metadata": {},
          "execution_count": 63
        }
      ]
    },
    {
      "cell_type": "code",
      "source": [
        "a = {1,1,1,2,2,3,4,5,6,7,8}\n",
        "b= {6,7,8,9,10}\n",
        "b.issuperset(a)"
      ],
      "metadata": {
        "colab": {
          "base_uri": "https://localhost:8080/"
        },
        "id": "hGIt02Yv0Y4b",
        "outputId": "3a77b29b-9f1b-41f3-a73f-c9b011cba9ba"
      },
      "execution_count": 64,
      "outputs": [
        {
          "output_type": "execute_result",
          "data": {
            "text/plain": [
              "False"
            ]
          },
          "metadata": {},
          "execution_count": 64
        }
      ]
    },
    {
      "cell_type": "code",
      "source": [
        "a = {1,1,1,2,2,3,4,5,6,7,8}\n",
        "min(a)"
      ],
      "metadata": {
        "colab": {
          "base_uri": "https://localhost:8080/"
        },
        "id": "7c0_3cTX0gCE",
        "outputId": "a3f0086f-fb80-4b5b-f79c-1447abeefe14"
      },
      "execution_count": 65,
      "outputs": [
        {
          "output_type": "execute_result",
          "data": {
            "text/plain": [
              "1"
            ]
          },
          "metadata": {},
          "execution_count": 65
        }
      ]
    },
    {
      "cell_type": "code",
      "source": [
        "a = {1,1,1,2,2,3,4,5,6,7,8}\n",
        "max(a)"
      ],
      "metadata": {
        "colab": {
          "base_uri": "https://localhost:8080/"
        },
        "id": "0G21wyYc0kGK",
        "outputId": "1afabade-613d-46b9-9813-603c83a67fe6"
      },
      "execution_count": 66,
      "outputs": [
        {
          "output_type": "execute_result",
          "data": {
            "text/plain": [
              "8"
            ]
          },
          "metadata": {},
          "execution_count": 66
        }
      ]
    },
    {
      "cell_type": "code",
      "source": [
        "a = {1,1,1,2,2,3,4,5,6,7,8}\n",
        "set(enumerate(a))"
      ],
      "metadata": {
        "colab": {
          "base_uri": "https://localhost:8080/"
        },
        "id": "n2hlpyne0mgC",
        "outputId": "917d8bb2-ad25-444c-9916-f5600a4b2341"
      },
      "execution_count": 67,
      "outputs": [
        {
          "output_type": "execute_result",
          "data": {
            "text/plain": [
              "{(0, 1), (1, 2), (2, 3), (3, 4), (4, 5), (5, 6), (6, 7), (7, 8)}"
            ]
          },
          "metadata": {},
          "execution_count": 67
        }
      ]
    }
  ]
}