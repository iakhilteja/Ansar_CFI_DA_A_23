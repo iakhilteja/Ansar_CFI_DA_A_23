{
  "nbformat": 4,
  "nbformat_minor": 0,
  "metadata": {
    "colab": {
      "provenance": []
    },
    "kernelspec": {
      "name": "python3",
      "display_name": "Python 3"
    },
    "language_info": {
      "name": "python"
    }
  },
  "cells": [
    {
      "cell_type": "markdown",
      "source": [
        "PATTERN LOOP Q/A"
      ],
      "metadata": {
        "id": "f21TDzpSdhQW"
      }
    },
    {
      "cell_type": "code",
      "execution_count": null,
      "metadata": {
        "colab": {
          "base_uri": "https://localhost:8080/"
        },
        "id": "Uy2AANZTdUkE",
        "outputId": "a185b755-f04d-46ac-ec5c-863c0d30cf0b"
      },
      "outputs": [
        {
          "output_type": "stream",
          "name": "stdout",
          "text": [
            "    *\n",
            "   **\n",
            "  ***\n",
            " ****\n",
            "*****\n"
          ]
        }
      ],
      "source": [
        "#1)\n",
        "#    *\n",
        "#   **\n",
        "#  ***\n",
        "# ****\n",
        "#*****\n",
        "\n",
        "for i in range(1,6):\n",
        "  print(' '*(5-i)+ '*'*i)"
      ]
    },
    {
      "cell_type": "code",
      "source": [
        "#2)\n",
        "#    *    \n",
        "#   ***   \n",
        "#  *****  \n",
        "# ******* \n",
        "#*********\n",
        "\n",
        "i = 4\n",
        "for j in range(1,10,2):\n",
        " print(' '*i,'*'*j)\n",
        " i=i-1 "
      ],
      "metadata": {
        "colab": {
          "base_uri": "https://localhost:8080/"
        },
        "id": "RePcmxi_jlMK",
        "outputId": "706c23c7-261e-4fa4-b6d1-19cfd70afc01"
      },
      "execution_count": null,
      "outputs": [
        {
          "output_type": "stream",
          "name": "stdout",
          "text": [
            "     *\n",
            "    ***\n",
            "   *****\n",
            "  *******\n",
            " *********\n"
          ]
        }
      ]
    },
    {
      "cell_type": "code",
      "source": [
        "#3)\n",
        "# *********\n",
        "#  *******\n",
        "#   *****\n",
        "#    ***\n",
        "#     *\n",
        "a =5\n",
        "for i in range(5):\n",
        "  print(' ' * i + '*' * (2*a-1-2*i))"
      ],
      "metadata": {
        "colab": {
          "base_uri": "https://localhost:8080/"
        },
        "id": "oiw9QQgXjzrB",
        "outputId": "060929cc-e6d3-47a3-8dfb-ab8261d1a523"
      },
      "execution_count": null,
      "outputs": [
        {
          "output_type": "stream",
          "name": "stdout",
          "text": [
            "*********\n",
            " *******\n",
            "  *****\n",
            "   ***\n",
            "    *\n"
          ]
        }
      ]
    },
    {
      "cell_type": "code",
      "source": [
        "#4)\n",
        "#     *    \n",
        "#    ***   \n",
        "#   *****  \n",
        "#  ******* \n",
        "# *********\n",
        "#  *******\n",
        "#   *****\n",
        "#    ***\n",
        "#     *\n",
        "\n",
        "'''upper half'''\n",
        "for i in range(5):\n",
        "  print(' '*(4-i) +'*'*(2*i+1))\n",
        "\n",
        "'''lower half'''\n",
        "for i in range(4,-1,-1):\n",
        "  print(' '*(4-i)+'*'*(2*i+1))"
      ],
      "metadata": {
        "colab": {
          "base_uri": "https://localhost:8080/"
        },
        "id": "_aJH1Gt3mQJ-",
        "outputId": "28291e04-599a-4bb3-d76d-1c4dc5704be4"
      },
      "execution_count": null,
      "outputs": [
        {
          "output_type": "stream",
          "name": "stdout",
          "text": [
            "    *\n",
            "   ***\n",
            "  *****\n",
            " *******\n",
            "*********\n",
            "*********\n",
            " *******\n",
            "  *****\n",
            "   ***\n",
            "    *\n"
          ]
        }
      ]
    },
    {
      "cell_type": "code",
      "source": [
        "#5)\n",
        "#2 9\n",
        "#3 8\n",
        "#4 7\n",
        "#5 6\n",
        "#6 5\n",
        "#7 4\n",
        "#8 3\n",
        "#9 2\n",
        "#10 1\n",
        "for a in range(2,11):\n",
        "  b = 11 - a\n",
        "  print(a,b)"
      ],
      "metadata": {
        "colab": {
          "base_uri": "https://localhost:8080/"
        },
        "id": "Ub5eLz7Dppo0",
        "outputId": "750eeefa-1e89-410d-d660-4cc179e1cd0c"
      },
      "execution_count": null,
      "outputs": [
        {
          "output_type": "stream",
          "name": "stdout",
          "text": [
            "2 9\n",
            "3 8\n",
            "4 7\n",
            "5 6\n",
            "6 5\n",
            "7 4\n",
            "8 3\n",
            "9 2\n",
            "10 1\n"
          ]
        }
      ]
    },
    {
      "cell_type": "code",
      "source": [
        "#6)\n",
        "#1\n",
        "#22\n",
        "#333\n",
        "#4444\n",
        "#55555\n",
        "for i in range(1,6):\n",
        "  print(str(i)*i)"
      ],
      "metadata": {
        "colab": {
          "base_uri": "https://localhost:8080/"
        },
        "id": "ssCpQikpsA_u",
        "outputId": "93b790c0-3c37-432e-d47e-5573e114b4d9"
      },
      "execution_count": null,
      "outputs": [
        {
          "output_type": "stream",
          "name": "stdout",
          "text": [
            "1\n",
            "22\n",
            "333\n",
            "4444\n",
            "55555\n"
          ]
        }
      ]
    },
    {
      "cell_type": "code",
      "source": [
        "#7)\n",
        "#54321\n",
        "#4321\n",
        "#321\n",
        "#21\n",
        "#1\n",
        "for i in range(5, 0, -1):\n",
        "  for j in range(i, 0, -1):\n",
        "   print(j, end='')\n",
        "  print()\n"
      ],
      "metadata": {
        "colab": {
          "base_uri": "https://localhost:8080/"
        },
        "id": "Vf_X1hyysmiS",
        "outputId": "626b7db8-0bc0-46c7-b1c3-165e80e1191e"
      },
      "execution_count": null,
      "outputs": [
        {
          "output_type": "stream",
          "name": "stdout",
          "text": [
            "54321\n",
            "4321\n",
            "321\n",
            "21\n",
            "1\n"
          ]
        }
      ]
    },
    {
      "cell_type": "code",
      "source": [
        "#8)\n",
        "#1  \n",
        "#2  3  \n",
        "#4  5  6  \n",
        "#7  8  9  10 \n",
        "#11 12 13 14 15\n",
        "#16 17 18 19 20 21\n",
        "a = 1\n",
        "for i in range(6):\n",
        "  for j in range(i+1):\n",
        "     print(a, end=' ')\n",
        "     a += 1 \n",
        "  print()\n"
      ],
      "metadata": {
        "colab": {
          "base_uri": "https://localhost:8080/"
        },
        "id": "EL1osMMDtWe-",
        "outputId": "329230e7-3389-433d-8c7b-869b656fb975"
      },
      "execution_count": null,
      "outputs": [
        {
          "output_type": "stream",
          "name": "stdout",
          "text": [
            "1 \n",
            "2 3 \n",
            "4 5 6 \n",
            "7 8 9 10 \n",
            "11 12 13 14 15 \n",
            "16 17 18 19 20 21 \n"
          ]
        }
      ]
    },
    {
      "cell_type": "code",
      "source": [
        "#9)\n",
        "#1  2  3  4  5  \n",
        "#6  7  8  9  \n",
        "#10 11 12 \n",
        "#13 14 \n",
        "#15 \n",
        "a = 1\n",
        "for i in range(5, 0, -1):\n",
        "  for j in range(i):\n",
        "    print(a, end=\" \")\n",
        "    a += 1\n",
        "  print()\n"
      ],
      "metadata": {
        "colab": {
          "base_uri": "https://localhost:8080/"
        },
        "id": "lkPE7UArt2cP",
        "outputId": "6b6029bb-4aa4-4c61-ddc5-31abbe4e814e"
      },
      "execution_count": null,
      "outputs": [
        {
          "output_type": "stream",
          "name": "stdout",
          "text": [
            "1 2 3 4 5 \n",
            "6 7 8 9 \n",
            "10 11 12 \n",
            "13 14 \n",
            "15 \n"
          ]
        }
      ]
    },
    {
      "cell_type": "code",
      "source": [
        "#10)\n",
        "#0 x 9 + 8 = 8\n",
        "#9 x 9 + 7 = 88\n",
        "#98 x 9 + 6 = 888\n",
        "#987 x 9 + 5 = 8888\n",
        "#9876 x 9 + 4 = 88888\n",
        "#98765 x 9 + 3 = 888888\n",
        "#987654 x 9 + 2 = 8888888\n",
        "#9876543 x 9 + 1 = 88888888\n",
        "#98765432 x 9 + 0 = 888888888\n",
        "i = ''\n",
        "print('0 x 9 + 8 = 8')\n",
        "for  j in range(7,-1,-1):\n",
        "  i+=str(j+2)\n",
        "  print(f'{i} x 9 + {j} = {int(i)*9+j}')\n"
      ],
      "metadata": {
        "colab": {
          "base_uri": "https://localhost:8080/"
        },
        "id": "20FtKctbuhll",
        "outputId": "71f107d4-dded-47b8-d965-17d25d1a8d4e"
      },
      "execution_count": null,
      "outputs": [
        {
          "output_type": "stream",
          "name": "stdout",
          "text": [
            "0 x 9 + 8 = 8\n",
            "9 x 9 + 7 = 88\n",
            "98 x 9 + 6 = 888\n",
            "987 x 9 + 5 = 8888\n",
            "9876 x 9 + 4 = 88888\n",
            "98765 x 9 + 3 = 888888\n",
            "987654 x 9 + 2 = 8888888\n",
            "9876543 x 9 + 1 = 88888888\n",
            "98765432 x 9 + 0 = 888888888\n"
          ]
        }
      ]
    },
    {
      "cell_type": "code",
      "source": [
        "#11)\n",
        "#1 \n",
        "#2 4 \n",
        "#3 6 9 \n",
        "#4 8 12 16 \n",
        "#5 10 15 20 25 \n",
        "#6 12 18 24 30 36 \n",
        "#7 14 21 28 35 42 49 \n",
        "#8 16 24 32 40 48 56 64 \n",
        "#9 18 27 36 45 54 63 72 81 \n",
        "#10 20 30 40 50 60 70 80 90 100\n",
        "for i in range(1, 11):        \n",
        "  for j in range(1, i+1):   \n",
        "    print(i*j, end=\" \")   \n",
        "  print()                   \n"
      ],
      "metadata": {
        "colab": {
          "base_uri": "https://localhost:8080/"
        },
        "id": "w4UIgdquvR9D",
        "outputId": "d3fa8a8d-0580-4c8a-dc7c-1445afea6cd1"
      },
      "execution_count": null,
      "outputs": [
        {
          "output_type": "stream",
          "name": "stdout",
          "text": [
            "1 \n",
            "2 4 \n",
            "3 6 9 \n",
            "4 8 12 16 \n",
            "5 10 15 20 25 \n",
            "6 12 18 24 30 36 \n",
            "7 14 21 28 35 42 49 \n",
            "8 16 24 32 40 48 56 64 \n",
            "9 18 27 36 45 54 63 72 81 \n",
            "10 20 30 40 50 60 70 80 90 100 \n"
          ]
        }
      ]
    },
    {
      "cell_type": "code",
      "source": [
        "#12)\n",
        "#            1  \n",
        "#         2  3  \n",
        "#      4  5  6  \n",
        "#   7  8  9  10 \n",
        "#11 12 13 14 15 \n",
        "num = 1\n",
        "for i in range(1, 6):\n",
        "    for j in range(1, 6-i):\n",
        "        print(\" \", end=\" \")\n",
        "    for k in range(1, i+1):\n",
        "        print(num, end=\" \")\n",
        "        num += 1\n",
        "    print()\n",
        "\n",
        "\n",
        "\n"
      ],
      "metadata": {
        "colab": {
          "base_uri": "https://localhost:8080/"
        },
        "id": "eL1lp8d4vsZM",
        "outputId": "51a24603-1990-4ac8-da7f-1365b646a449"
      },
      "execution_count": null,
      "outputs": [
        {
          "output_type": "stream",
          "name": "stdout",
          "text": [
            "        1 \n",
            "      2 3 \n",
            "    4 5 6 \n",
            "  7 8 9 10 \n",
            "11 12 13 14 15 \n"
          ]
        }
      ]
    },
    {
      "cell_type": "code",
      "source": [
        "#13)\n",
        "# A  \n",
        "# A A \n",
        "# A A A \n",
        "# A A A A \n",
        "# A A A A A\n",
        "for i in range(1, 6):\n",
        "  for j in range(i):\n",
        "      print('A', end=' ')\n",
        "  print()\n",
        "\n"
      ],
      "metadata": {
        "colab": {
          "base_uri": "https://localhost:8080/"
        },
        "id": "fpU_oUub0AJX",
        "outputId": "3f87e8bf-6f4f-4bd0-afab-7657ec149afd"
      },
      "execution_count": null,
      "outputs": [
        {
          "output_type": "stream",
          "name": "stdout",
          "text": [
            "A \n",
            "A A \n",
            "A A A \n",
            "A A A A \n",
            "A A A A A \n"
          ]
        }
      ]
    },
    {
      "cell_type": "code",
      "source": [
        "\n",
        "#14)\n",
        "#A\n",
        "#AB\n",
        "#ABC\n",
        "#ABCD\n",
        "#ABCDE\n",
        "\n",
        "for i in range(65, 70):\n",
        "  for j in range(65, i+1):\n",
        "     print(chr(j), end='')\n",
        "  print()\n"
      ],
      "metadata": {
        "colab": {
          "base_uri": "https://localhost:8080/"
        },
        "id": "1lDLh4Vh0dkI",
        "outputId": "2f8580b3-a6b8-43e6-8bba-ab8d07d94e2b"
      },
      "execution_count": null,
      "outputs": [
        {
          "output_type": "stream",
          "name": "stdout",
          "text": [
            "A\n",
            "AB\n",
            "ABC\n",
            "ABCD\n",
            "ABCDE\n"
          ]
        }
      ]
    },
    {
      "cell_type": "code",
      "source": [
        "#15)\n",
        "#   A\n",
        "#  ABC\n",
        "# ABCDE\n",
        "\n",
        "n = 3 \n",
        "\n",
        "for i in range(1, n+1):\n",
        "    for j in range(n-i):\n",
        "        print(\" \", end=\"\")\n",
        "    for j in range(2*i-1):\n",
        "        print(chr(65+j), end=\"\")\n",
        "    print()\n"
      ],
      "metadata": {
        "colab": {
          "base_uri": "https://localhost:8080/"
        },
        "id": "XZEjeME41IYb",
        "outputId": "bfb19e25-7568-4e7e-d66b-723cdeacc9f5"
      },
      "execution_count": null,
      "outputs": [
        {
          "output_type": "stream",
          "name": "stdout",
          "text": [
            "  A\n",
            " ABC\n",
            "ABCDE\n"
          ]
        }
      ]
    }
  ]
}