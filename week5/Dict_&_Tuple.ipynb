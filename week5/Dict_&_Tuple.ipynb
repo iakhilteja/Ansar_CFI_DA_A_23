{
  "nbformat": 4,
  "nbformat_minor": 0,
  "metadata": {
    "colab": {
      "provenance": []
    },
    "kernelspec": {
      "name": "python3",
      "display_name": "Python 3"
    },
    "language_info": {
      "name": "python"
    }
  },
  "cells": [
    {
      "cell_type": "markdown",
      "source": [
        "#Dictionary"
      ],
      "metadata": {
        "id": "kNvY8F6Mclvk"
      }
    },
    {
      "cell_type": "code",
      "execution_count": 1,
      "metadata": {
        "colab": {
          "base_uri": "https://localhost:8080/"
        },
        "id": "y1zf1Pk-cKil",
        "outputId": "1c7f8a3c-9d11-4dab-d2e7-3c96f2854e0a"
      },
      "outputs": [
        {
          "output_type": "execute_result",
          "data": {
            "text/plain": [
              "{1: 2}"
            ]
          },
          "metadata": {},
          "execution_count": 1
        }
      ],
      "source": [
        "# a = { key : value}\n",
        "a = {1:2}\n",
        "a"
      ]
    },
    {
      "cell_type": "code",
      "source": [
        "a = dict({1:2})\n",
        "type(a)"
      ],
      "metadata": {
        "colab": {
          "base_uri": "https://localhost:8080/"
        },
        "id": "uO-v2_w8c1Ab",
        "outputId": "6b7ac5c4-87b2-46a6-81db-bc71662ddbbb"
      },
      "execution_count": 2,
      "outputs": [
        {
          "output_type": "execute_result",
          "data": {
            "text/plain": [
              "dict"
            ]
          },
          "metadata": {},
          "execution_count": 2
        }
      ]
    },
    {
      "cell_type": "code",
      "source": [
        "a = {1:2, 2.3:3, '3':8, (1,2):9}\n",
        "a"
      ],
      "metadata": {
        "colab": {
          "base_uri": "https://localhost:8080/"
        },
        "id": "618Jh1Nyc6qP",
        "outputId": "775e4b13-3a9e-4ffe-f5b2-2fbe0aaf0a2f"
      },
      "execution_count": 4,
      "outputs": [
        {
          "output_type": "execute_result",
          "data": {
            "text/plain": [
              "{1: 2, 2.3: 3, '3': 8, (1, 2): 9}"
            ]
          },
          "metadata": {},
          "execution_count": 4
        }
      ]
    },
    {
      "cell_type": "code",
      "source": [
        "a = {1:2, 2.3:3, '3':8, (1,2):9, 1:3, (1,2):9 }\n",
        "# latest key value is updated\n",
        "a"
      ],
      "metadata": {
        "colab": {
          "base_uri": "https://localhost:8080/"
        },
        "id": "2NtVQx0GdJhU",
        "outputId": "67bb18df-7876-4dd6-9905-4e7890c10ab9"
      },
      "execution_count": 5,
      "outputs": [
        {
          "output_type": "execute_result",
          "data": {
            "text/plain": [
              "{1: 3, 2.3: 3, '3': 8, (1, 2): 9}"
            ]
          },
          "metadata": {},
          "execution_count": 5
        }
      ]
    },
    {
      "cell_type": "code",
      "source": [
        "a = {1:2, 2.3:3, '3':8, (1,2):9, 1:3 }\n",
        "a.get(1)"
      ],
      "metadata": {
        "colab": {
          "base_uri": "https://localhost:8080/"
        },
        "id": "4dBIS6ZAdXPL",
        "outputId": "9985af5d-1e92-448e-aeee-11eb3aff2715"
      },
      "execution_count": 6,
      "outputs": [
        {
          "output_type": "execute_result",
          "data": {
            "text/plain": [
              "3"
            ]
          },
          "metadata": {},
          "execution_count": 6
        }
      ]
    },
    {
      "cell_type": "code",
      "source": [
        "a = {1:2, 2.3:3, '3':8, (1,2):9, 1:3 }\n",
        "a.get(6)\n",
        "a"
      ],
      "metadata": {
        "colab": {
          "base_uri": "https://localhost:8080/"
        },
        "id": "7DlztpfZdby2",
        "outputId": "f24b4315-3d52-4fc3-aa49-546c610b58d7"
      },
      "execution_count": 10,
      "outputs": [
        {
          "output_type": "execute_result",
          "data": {
            "text/plain": [
              "{1: 3, 2.3: 3, '3': 8, (1, 2): 9}"
            ]
          },
          "metadata": {},
          "execution_count": 10
        }
      ]
    },
    {
      "cell_type": "code",
      "source": [
        "a.update({5:6,7:8,9:10})\n",
        "a"
      ],
      "metadata": {
        "colab": {
          "base_uri": "https://localhost:8080/"
        },
        "id": "MEAYEDXedvSi",
        "outputId": "8a38b01c-0a54-49b0-9e9e-9406004adfc0"
      },
      "execution_count": 11,
      "outputs": [
        {
          "output_type": "execute_result",
          "data": {
            "text/plain": [
              "{1: 3, 2.3: 3, '3': 8, (1, 2): 9, 5: 6, 7: 8, 9: 10}"
            ]
          },
          "metadata": {},
          "execution_count": 11
        }
      ]
    },
    {
      "cell_type": "code",
      "source": [
        "print(a)\n",
        "len(a)"
      ],
      "metadata": {
        "colab": {
          "base_uri": "https://localhost:8080/"
        },
        "id": "b_VahQ_kdz64",
        "outputId": "9f1abbb0-91db-4683-bcb9-8d4d447c86de"
      },
      "execution_count": 12,
      "outputs": [
        {
          "output_type": "stream",
          "name": "stdout",
          "text": [
            "{1: 3, 2.3: 3, '3': 8, (1, 2): 9, 5: 6, 7: 8, 9: 10}\n"
          ]
        },
        {
          "output_type": "execute_result",
          "data": {
            "text/plain": [
              "7"
            ]
          },
          "metadata": {},
          "execution_count": 12
        }
      ]
    },
    {
      "cell_type": "code",
      "source": [
        "a[10] = [1,2,3]\n",
        "a.update({10:3})\n",
        "a"
      ],
      "metadata": {
        "colab": {
          "base_uri": "https://localhost:8080/"
        },
        "id": "ELxQMLmBd23J",
        "outputId": "e5178b1a-195b-4d9d-b0d7-07bcee3b14e1"
      },
      "execution_count": 16,
      "outputs": [
        {
          "output_type": "execute_result",
          "data": {
            "text/plain": [
              "{1: 3, 2.3: 3, '3': 8, (1, 2): 9, 5: 6, 7: 11, 9: 10, 10: 3}"
            ]
          },
          "metadata": {},
          "execution_count": 16
        }
      ]
    },
    {
      "cell_type": "code",
      "source": [
        "print(a)\n",
        "a.setdefault('4',100)\n",
        "a"
      ],
      "metadata": {
        "colab": {
          "base_uri": "https://localhost:8080/"
        },
        "id": "K4xVeZiKeBUb",
        "outputId": "be710a6a-c66f-48d9-b5b4-eb4374025f2e"
      },
      "execution_count": 17,
      "outputs": [
        {
          "output_type": "stream",
          "name": "stdout",
          "text": [
            "{1: 3, 2.3: 3, '3': 8, (1, 2): 9, 5: 6, 7: 11, 9: 10, 10: 3}\n"
          ]
        },
        {
          "output_type": "execute_result",
          "data": {
            "text/plain": [
              "{1: 3, 2.3: 3, '3': 8, (1, 2): 9, 5: 6, 7: 11, 9: 10, 10: 3, '4': 100}"
            ]
          },
          "metadata": {},
          "execution_count": 17
        }
      ]
    },
    {
      "cell_type": "code",
      "source": [
        "s = [1,2,3,4]\n",
        "b = 2\n",
        "{}.fromkeys(s,b)"
      ],
      "metadata": {
        "colab": {
          "base_uri": "https://localhost:8080/"
        },
        "id": "Mk3OOOU-ePFr",
        "outputId": "f6ba10d0-f014-49b4-d0b6-aabd6ecec8ec"
      },
      "execution_count": 18,
      "outputs": [
        {
          "output_type": "execute_result",
          "data": {
            "text/plain": [
              "{1: 2, 2: 2, 3: 2, 4: 2}"
            ]
          },
          "metadata": {},
          "execution_count": 18
        }
      ]
    },
    {
      "cell_type": "code",
      "source": [
        "type(None)"
      ],
      "metadata": {
        "colab": {
          "base_uri": "https://localhost:8080/"
        },
        "id": "GM9Ey1IJe5Nh",
        "outputId": "7d9a8d45-4147-4f25-ea13-fad503770007"
      },
      "execution_count": 19,
      "outputs": [
        {
          "output_type": "execute_result",
          "data": {
            "text/plain": [
              "NoneType"
            ]
          },
          "metadata": {},
          "execution_count": 19
        }
      ]
    },
    {
      "cell_type": "code",
      "source": [
        "a = {1: 22, 2: 43, 3: 31, 4: 2111}\n",
        "a.pop(3)\n",
        "a"
      ],
      "metadata": {
        "colab": {
          "base_uri": "https://localhost:8080/"
        },
        "id": "C3ytmGfwe7aX",
        "outputId": "b3849a4b-2a6e-4a05-c7e1-8b9a4fc30ccf"
      },
      "execution_count": 20,
      "outputs": [
        {
          "output_type": "execute_result",
          "data": {
            "text/plain": [
              "{1: 22, 2: 43, 4: 2111}"
            ]
          },
          "metadata": {},
          "execution_count": 20
        }
      ]
    },
    {
      "cell_type": "code",
      "source": [
        "a.popitem()\n",
        "a"
      ],
      "metadata": {
        "colab": {
          "base_uri": "https://localhost:8080/"
        },
        "id": "2OokIF2EfBCy",
        "outputId": "b016d931-d3de-4852-98db-77cd120e0e35"
      },
      "execution_count": 21,
      "outputs": [
        {
          "output_type": "execute_result",
          "data": {
            "text/plain": [
              "{1: 22, 2: 43}"
            ]
          },
          "metadata": {},
          "execution_count": 21
        }
      ]
    },
    {
      "cell_type": "code",
      "source": [
        "a = {1: 2, 2: 2, 3: 2, 4: 2}\n",
        "b = {11: 2, 12: 2, 13: 2, 14: 2}\n",
        "a.update(b)\n",
        "a"
      ],
      "metadata": {
        "colab": {
          "base_uri": "https://localhost:8080/"
        },
        "id": "CY8O8c06fH9x",
        "outputId": "e5e233b0-fede-4074-d5b5-2e8167b8b5a3"
      },
      "execution_count": 23,
      "outputs": [
        {
          "output_type": "execute_result",
          "data": {
            "text/plain": [
              "{1: 2, 2: 2, 3: 2, 4: 2, 11: 2, 12: 2, 13: 2, 14: 2}"
            ]
          },
          "metadata": {},
          "execution_count": 23
        }
      ]
    },
    {
      "cell_type": "code",
      "source": [
        "def merge(dict1, dict2):\n",
        "    merge = {**dict1, **dict2}\n",
        "\n",
        "    return merge\n",
        "\n",
        "\n",
        "\n",
        "dict1 = {'a': 1, 'b': 2}\n",
        "dict2 = {'c': 3, 'd': 4}\n",
        "merged_dict = merge(dict1, dict2)\n",
        "print(merged_dict)\n"
      ],
      "metadata": {
        "colab": {
          "base_uri": "https://localhost:8080/"
        },
        "id": "hN9tUS2Hi7oL",
        "outputId": "c1c1959a-f63b-406d-ee50-eb47568bbbd4"
      },
      "execution_count": 34,
      "outputs": [
        {
          "output_type": "stream",
          "name": "stdout",
          "text": [
            "{'a': 1, 'b': 2, 'c': 3, 'd': 4}\n"
          ]
        }
      ]
    },
    {
      "cell_type": "code",
      "source": [
        "def square(n):\n",
        "    s = {}\n",
        "\n",
        "    for i in range(1, n+1):\n",
        "        s[i] = i**2\n",
        "\n",
        "    return s\n",
        "\n",
        "n = 5\n",
        "squares_dict = square(n)\n",
        "print(squares_dict)\n"
      ],
      "metadata": {
        "colab": {
          "base_uri": "https://localhost:8080/"
        },
        "id": "M1WRYJsvjljP",
        "outputId": "b7c4b37b-da77-4088-bdfb-81e75919d9ad"
      },
      "execution_count": 35,
      "outputs": [
        {
          "output_type": "stream",
          "name": "stdout",
          "text": [
            "{1: 1, 2: 4, 3: 9, 4: 16, 5: 25}\n"
          ]
        }
      ]
    },
    {
      "cell_type": "markdown",
      "source": [
        "#Tuple"
      ],
      "metadata": {
        "id": "cITGiuGugUL3"
      }
    },
    {
      "cell_type": "code",
      "source": [
        "#acess\n",
        "t = (1,2,3,4,5)\n",
        "print(t[0])"
      ],
      "metadata": {
        "colab": {
          "base_uri": "https://localhost:8080/"
        },
        "id": "l3GKayFqgTBm",
        "outputId": "0a41d87b-85dc-4a43-90ea-2931d75582ee"
      },
      "execution_count": 25,
      "outputs": [
        {
          "output_type": "stream",
          "name": "stdout",
          "text": [
            "1\n"
          ]
        }
      ]
    },
    {
      "cell_type": "code",
      "source": [
        "#concatinate\n",
        "t1 = (1, 2, 3)\n",
        "t2 = (4, 5, 6)\n",
        "con = t1 + t2\n",
        "print(con)  \n"
      ],
      "metadata": {
        "colab": {
          "base_uri": "https://localhost:8080/"
        },
        "id": "yK9sB7EngtBq",
        "outputId": "abc43d52-9a71-43f3-e878-8ee0d779f3ee"
      },
      "execution_count": 26,
      "outputs": [
        {
          "output_type": "stream",
          "name": "stdout",
          "text": [
            "(1, 2, 3, 4, 5, 6)\n"
          ]
        }
      ]
    },
    {
      "cell_type": "code",
      "source": [
        "#checking element\n",
        "t = (1, 2, 3, 4, 5)\n",
        "print(3 in t)  \n",
        "print(6 in t)  \n"
      ],
      "metadata": {
        "colab": {
          "base_uri": "https://localhost:8080/"
        },
        "id": "ya92ArLkg4wK",
        "outputId": "538cf59f-75f9-460a-9533-1395b60f5f09"
      },
      "execution_count": 27,
      "outputs": [
        {
          "output_type": "stream",
          "name": "stdout",
          "text": [
            "True\n",
            "False\n"
          ]
        }
      ]
    },
    {
      "cell_type": "code",
      "source": [
        "t1 = (1, 2, 3, 4, 5)\n",
        "print(len(t1))  \n"
      ],
      "metadata": {
        "colab": {
          "base_uri": "https://localhost:8080/"
        },
        "id": "r5U8ytxahGUn",
        "outputId": "6b329576-4aca-4bdb-cf54-eeebcf615d75"
      },
      "execution_count": 28,
      "outputs": [
        {
          "output_type": "stream",
          "name": "stdout",
          "text": [
            "5\n"
          ]
        }
      ]
    },
    {
      "cell_type": "code",
      "source": [
        "#count and occur\n",
        "t = (1, 2, 2, 3, 3, 3, 4, 4, 4, 4)\n",
        "print(t.count(2)) \n",
        "print(t.count(5))  \n"
      ],
      "metadata": {
        "colab": {
          "base_uri": "https://localhost:8080/"
        },
        "id": "KjSy70FzhSqe",
        "outputId": "c796b6a8-b0f0-4f6e-b379-06dcba82eeaa"
      },
      "execution_count": 29,
      "outputs": [
        {
          "output_type": "stream",
          "name": "stdout",
          "text": [
            "2\n",
            "0\n"
          ]
        }
      ]
    },
    {
      "cell_type": "code",
      "source": [
        "t = (10, 20, 30, 40, 50)\n",
        "print(t.index(30))  \n",
        "print(t.index(60))  #error (value not found)\n"
      ],
      "metadata": {
        "colab": {
          "base_uri": "https://localhost:8080/",
          "height": 222
        },
        "id": "bIzCVzzsheCH",
        "outputId": "7a9e7e0c-0071-496c-fd23-63e7f0c88db1"
      },
      "execution_count": 30,
      "outputs": [
        {
          "output_type": "stream",
          "name": "stdout",
          "text": [
            "2\n"
          ]
        },
        {
          "output_type": "error",
          "ename": "ValueError",
          "evalue": "ignored",
          "traceback": [
            "\u001b[0;31m---------------------------------------------------------------------------\u001b[0m",
            "\u001b[0;31mValueError\u001b[0m                                Traceback (most recent call last)",
            "\u001b[0;32m<ipython-input-30-05713f90978e>\u001b[0m in \u001b[0;36m<cell line: 3>\u001b[0;34m()\u001b[0m\n\u001b[1;32m      1\u001b[0m \u001b[0mt\u001b[0m \u001b[0;34m=\u001b[0m \u001b[0;34m(\u001b[0m\u001b[0;36m10\u001b[0m\u001b[0;34m,\u001b[0m \u001b[0;36m20\u001b[0m\u001b[0;34m,\u001b[0m \u001b[0;36m30\u001b[0m\u001b[0;34m,\u001b[0m \u001b[0;36m40\u001b[0m\u001b[0;34m,\u001b[0m \u001b[0;36m50\u001b[0m\u001b[0;34m)\u001b[0m\u001b[0;34m\u001b[0m\u001b[0;34m\u001b[0m\u001b[0m\n\u001b[1;32m      2\u001b[0m \u001b[0mprint\u001b[0m\u001b[0;34m(\u001b[0m\u001b[0mt\u001b[0m\u001b[0;34m.\u001b[0m\u001b[0mindex\u001b[0m\u001b[0;34m(\u001b[0m\u001b[0;36m30\u001b[0m\u001b[0;34m)\u001b[0m\u001b[0;34m)\u001b[0m\u001b[0;34m\u001b[0m\u001b[0;34m\u001b[0m\u001b[0m\n\u001b[0;32m----> 3\u001b[0;31m \u001b[0mprint\u001b[0m\u001b[0;34m(\u001b[0m\u001b[0mt\u001b[0m\u001b[0;34m.\u001b[0m\u001b[0mindex\u001b[0m\u001b[0;34m(\u001b[0m\u001b[0;36m60\u001b[0m\u001b[0;34m)\u001b[0m\u001b[0;34m)\u001b[0m\u001b[0;34m\u001b[0m\u001b[0;34m\u001b[0m\u001b[0m\n\u001b[0m",
            "\u001b[0;31mValueError\u001b[0m: tuple.index(x): x not in tuple"
          ]
        }
      ]
    },
    {
      "cell_type": "code",
      "source": [
        "#slicing\n",
        "my_tuple = (1, 2, 3, 4, 5)\n",
        "print(my_tuple[1:4])  \n"
      ],
      "metadata": {
        "colab": {
          "base_uri": "https://localhost:8080/"
        },
        "id": "Gm-Jgw0zh3Th",
        "outputId": "c75907ba-f612-4a78-8e2e-9c21a9e2a355"
      },
      "execution_count": 31,
      "outputs": [
        {
          "output_type": "stream",
          "name": "stdout",
          "text": [
            "(2, 3, 4)\n"
          ]
        }
      ]
    },
    {
      "cell_type": "code",
      "source": [
        "#check empty tuple\n",
        "t = ()\n",
        "if not t:\n",
        "    print('tuple is empty')\n",
        "else:\n",
        "    print('tuple is not empty')\n"
      ],
      "metadata": {
        "colab": {
          "base_uri": "https://localhost:8080/"
        },
        "id": "6dajjNnViGK0",
        "outputId": "99738c60-dfab-475a-e35c-b6f6045929c1"
      },
      "execution_count": 32,
      "outputs": [
        {
          "output_type": "stream",
          "name": "stdout",
          "text": [
            "tuple is empty\n"
          ]
        }
      ]
    },
    {
      "cell_type": "code",
      "source": [
        "#list into tuple\n",
        "l = [1, 2, 3, 4, 5]\n",
        "t = tuple(l)\n",
        "print(t)  # Output: (1, 2, 3, 4, 5)\n"
      ],
      "metadata": {
        "colab": {
          "base_uri": "https://localhost:8080/"
        },
        "id": "Yv62bxnAiWhs",
        "outputId": "8a44cd4e-7c9b-4bc7-ddc5-3c6ea7256dc1"
      },
      "execution_count": 33,
      "outputs": [
        {
          "output_type": "stream",
          "name": "stdout",
          "text": [
            "(1, 2, 3, 4, 5)\n"
          ]
        }
      ]
    }
  ]
}