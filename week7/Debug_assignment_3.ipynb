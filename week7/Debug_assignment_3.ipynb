{
  "nbformat": 4,
  "nbformat_minor": 0,
  "metadata": {
    "colab": {
      "provenance": []
    },
    "kernelspec": {
      "name": "python3",
      "display_name": "Python 3"
    },
    "language_info": {
      "name": "python"
    }
  },
  "cells": [
    {
      "cell_type": "code",
      "execution_count": 2,
      "metadata": {
        "colab": {
          "base_uri": "https://localhost:8080/"
        },
        "id": "Xi3sGp51Ebk8",
        "outputId": "d23742c6-2985-4a5d-ee5c-a8d4d1fbf84a"
      },
      "outputs": [
        {
          "output_type": "stream",
          "name": "stdout",
          "text": [
            "12\n"
          ]
        }
      ],
      "source": [
        "#1) assignment3\n",
        "\n",
        "# Q1\n",
        "s=\"hello python\"\n",
        "a=list(s)\n",
        "count=0\n",
        "#print(a)\n",
        "for i in a:\n",
        " count +=1\n",
        "print(count)"
      ]
    },
    {
      "cell_type": "code",
      "source": [
        "# 2)\n",
        "c = 'hello python'\n",
        "count=0\n",
        "for i in s:\n",
        " count+=1\n",
        "print(count)"
      ],
      "metadata": {
        "colab": {
          "base_uri": "https://localhost:8080/"
        },
        "id": "ZjADxsgoHBU-",
        "outputId": "33956f82-e2bf-4719-971b-d2573d10f3b2"
      },
      "execution_count": 5,
      "outputs": [
        {
          "output_type": "stream",
          "name": "stdout",
          "text": [
            "12\n"
          ]
        }
      ]
    },
    {
      "cell_type": "code",
      "source": [
        "# 3)\n",
        "s= 'Find the length of the string'\n",
        "b=list(enumerate(s))\n",
        "b[-1][0]+1"
      ],
      "metadata": {
        "colab": {
          "base_uri": "https://localhost:8080/"
        },
        "id": "LbFMzitAHcKZ",
        "outputId": "9bb6bb72-9c4d-485c-b198-d4034ca619b4"
      },
      "execution_count": 6,
      "outputs": [
        {
          "output_type": "execute_result",
          "data": {
            "text/plain": [
              "29"
            ]
          },
          "metadata": {},
          "execution_count": 6
        }
      ]
    },
    {
      "cell_type": "code",
      "source": [
        "# 4) PRINT 'are' number of times it appears\n",
        "a=\"how are you and how are your parents and how are your daughters/sons\"\n",
        "a.count(\" are \") * ' are '"
      ],
      "metadata": {
        "colab": {
          "base_uri": "https://localhost:8080/",
          "height": 35
        },
        "id": "-g7bvnKUHiaH",
        "outputId": "f7e9f6a9-d53e-4114-d60d-dca547818669"
      },
      "execution_count": 7,
      "outputs": [
        {
          "output_type": "execute_result",
          "data": {
            "text/plain": [
              "' are  are  are '"
            ],
            "application/vnd.google.colaboratory.intrinsic+json": {
              "type": "string"
            }
          },
          "metadata": {},
          "execution_count": 7
        }
      ]
    },
    {
      "cell_type": "code",
      "source": [
        "# 5)\n",
        "a=\"how are you and how are your parents and how are your daughters/sons\"\n",
        "for i in a.split(' '):\n",
        " if (i=='are'):\n",
        "  print(i)"
      ],
      "metadata": {
        "colab": {
          "base_uri": "https://localhost:8080/"
        },
        "id": "2-7rw32KHrfG",
        "outputId": "eef22240-5bf4-4b9c-fdde-fb0e0d2edc0f"
      },
      "execution_count": 8,
      "outputs": [
        {
          "output_type": "stream",
          "name": "stdout",
          "text": [
            "are\n",
            "are\n",
            "are\n"
          ]
        }
      ]
    },
    {
      "cell_type": "code",
      "source": [
        "#6)\n",
        "s = 'All apples are red in color and round in shape'\n",
        "count=0\n",
        "for i in s:\n",
        "#print(i)\n",
        " if((i=='A') or (i =='a')):\n",
        "   count+=1\n",
        "print(count)"
      ],
      "metadata": {
        "colab": {
          "base_uri": "https://localhost:8080/"
        },
        "id": "MhFyjBAFHxpH",
        "outputId": "87c68b21-e3fd-42fa-db47-26439a09dfc1"
      },
      "execution_count": 9,
      "outputs": [
        {
          "output_type": "stream",
          "name": "stdout",
          "text": [
            "5\n"
          ]
        }
      ]
    },
    {
      "cell_type": "code",
      "source": [
        "#7) This program converts string=\"HYderabad\" to lowercase\n",
        "\n",
        "s= 'HYderabaD'\n",
        "j=0\n",
        "for i in s:\n",
        "#print(ord(s[j]))\n",
        "  if(ord(s[j])<=90):\n",
        "    b=ord(s[j])\n",
        "    print(chr(b+32),end=\"\")\n",
        "  else:\n",
        "    b=ord(s[j])\n",
        "    print(chr(b),end=\"\")\n",
        "  j+=1\n",
        "\n",
        "#hr(72)\n",
        "# ord()"
      ],
      "metadata": {
        "colab": {
          "base_uri": "https://localhost:8080/"
        },
        "id": "kEEfpL3NIEWg",
        "outputId": "d5adbb1d-0cf6-4090-ede3-04e3bef1f01f"
      },
      "execution_count": 10,
      "outputs": [
        {
          "output_type": "stream",
          "name": "stdout",
          "text": [
            "hyderabad"
          ]
        }
      ]
    },
    {
      "cell_type": "code",
      "source": [
        "# 8) Convert any given string to lower case\n",
        "\n",
        "s=input(\"Enter the string to convert to lowercase : \")\n",
        "j=0\n",
        "for i in s:\n",
        "  if((ord(s[j])<=90) and (ord(s[j])!=32)):\n",
        "    b=ord(s[j])\n",
        "    print(chr(b+32),end=\"\")\n",
        "  else:\n",
        "    b=ord(s[j])\n",
        "    print(chr(b),end=\"\")\n",
        "  j+=1"
      ],
      "metadata": {
        "colab": {
          "base_uri": "https://localhost:8080/"
        },
        "id": "EgRcHkUcIXDX",
        "outputId": "999ebbc0-1499-43f4-d3d9-179202027f89"
      },
      "execution_count": 12,
      "outputs": [
        {
          "output_type": "stream",
          "name": "stdout",
          "text": [
            "Enter the string to convert to lowercase : SHAZAN ANSAR\n",
            "shazan ansar"
          ]
        }
      ]
    },
    {
      "cell_type": "code",
      "source": [
        "# 9) Convert any given string to uppercase\n",
        "\n",
        "s=input(\"Enter the string to convert to uppercase : \")\n",
        "j=0\n",
        "for i in s:\n",
        "  if((ord(s[j])>=97) and (ord(s[j])!=32)):\n",
        "    b=ord(s[j])\n",
        "    print(chr(b-32),end=\"\")\n",
        "  else:\n",
        "    b=ord(s[j])\n",
        "    print(chr(b),end=\"\")\n",
        "  j+=1"
      ],
      "metadata": {
        "colab": {
          "base_uri": "https://localhost:8080/"
        },
        "id": "xBBkQC0nIxDr",
        "outputId": "673e93ee-460b-4fec-c730-2e5964598ce6"
      },
      "execution_count": 13,
      "outputs": [
        {
          "output_type": "stream",
          "name": "stdout",
          "text": [
            "Enter the string to convert to uppercase : richansar will be future brand\n",
            "RICHANSAR WILL BE FUTURE BRAND"
          ]
        }
      ]
    },
    {
      "cell_type": "code",
      "source": [
        "# 10)\n",
        "s1=input(\"Enter the string: \")\n",
        "s=list(s1.split(\" \"))\n",
        "for i in range(len(s)):\n",
        "  b= ord(s[i][0])\n",
        "  if(b in range(65,90)):\n",
        "    print(f\"{s[i]} is Uppercase\")\n",
        "  elif(b in range(97,122)):\n",
        "    print(f\"{s[i]} is lowercase\")\n",
        "  else:\n",
        "    print(f\"{s1} is none\")\n"
      ],
      "metadata": {
        "colab": {
          "base_uri": "https://localhost:8080/"
        },
        "id": "lcuexqL3JJwp",
        "outputId": "9e5c8cb8-503f-4dcf-b944-151455bcaf05"
      },
      "execution_count": 14,
      "outputs": [
        {
          "output_type": "stream",
          "name": "stdout",
          "text": [
            "Enter the string: Ansar to shazan\n",
            "Ansar is Uppercase\n",
            "to is lowercase\n",
            "shazan is lowercase\n"
          ]
        }
      ]
    },
    {
      "cell_type": "code",
      "source": [
        "#11) program checks if identifier is valid import keyword\n",
        "\n",
        "import keyword\n",
        "k=keyword.kwlist\n",
        "a=input(\"Enter the idenfier: \")\n",
        "if a in k:\n",
        "  print(\"These are keywords,try another word\")\n",
        "else: \n",
        "  flag=0\n",
        "  for i in a: #32-64 special chAR,special symbols\n",
        "    if(ord(a[0])in range(32,65) or ord(a[0])in range(91,95) or ord(i)!=32):\n",
        "      flag=0\n",
        "    elif(ord(i)in range(65,91)) or (ord(i) in range(97,123)) or (ord(i))==137 or (ord(i)in range(48,58)):\n",
        "      flag=1 \n",
        "  if flag:\n",
        "    print(\"valid\") \n",
        "  else:\n",
        "    print(\"invalid\")"
      ],
      "metadata": {
        "colab": {
          "base_uri": "https://localhost:8080/"
        },
        "id": "366auYd9J8sw",
        "outputId": "2aa46ab6-8125-4bfa-cd4d-7c172515c218"
      },
      "execution_count": 17,
      "outputs": [
        {
          "output_type": "stream",
          "name": "stdout",
          "text": [
            "Enter the idenfier: @shazan\n",
            "invalid\n"
          ]
        }
      ]
    },
    {
      "cell_type": "code",
      "source": [
        "#12) \n",
        "\n",
        "a=input(\"Enter the string: \")\n",
        "flag=0\n",
        "for i in range(len(a)):\n",
        "  if(ord(a[i]) in range(65,91)or(ord(a[i]) in range(97,123))): \n",
        "    flag=1\n",
        "  else: \n",
        "    flag=0\n",
        "  break \n",
        "if flag:\n",
        "  print(f\"{a} is alpha\") \n",
        "else:\n",
        "  print(f\"{a} is alphanum\")"
      ],
      "metadata": {
        "colab": {
          "base_uri": "https://localhost:8080/"
        },
        "id": "414W8IONKvSk",
        "outputId": "0f885053-c2f8-4247-a661-88a106f9e21e"
      },
      "execution_count": 19,
      "outputs": [
        {
          "output_type": "stream",
          "name": "stdout",
          "text": [
            "Enter the string: 011shazan022\n",
            "011shazan022 is alphanum\n"
          ]
        }
      ]
    },
    {
      "cell_type": "code",
      "source": [
        "# 13) \n",
        "\n",
        "a=[0,1,2,[4,2,0,3,1],5,1,2,8,9] \n",
        "b= int(input(\"enter a number: \")) #type(a)\n",
        "\n",
        "for i in range(len(a)) :\n",
        "  if(a[i]==b): \n",
        "    print(f\"a[{i}]\")\n",
        "  if (type(a[i])==list):\n",
        "    for j in range(len(a[i])):\n",
        "      if (a[i][j]==b): \n",
        "        print(f\"a[{i}][{j}]\")"
      ],
      "metadata": {
        "colab": {
          "base_uri": "https://localhost:8080/"
        },
        "id": "HyFuX0U7LIKc",
        "outputId": "31130df9-97cb-4c28-f127-3c0ddeb2766e"
      },
      "execution_count": 21,
      "outputs": [
        {
          "output_type": "stream",
          "name": "stdout",
          "text": [
            "enter a number: 3\n",
            "a[3][3]\n"
          ]
        }
      ]
    },
    {
      "cell_type": "code",
      "source": [
        " #14)\n",
        " \n",
        "a=[0,1,2,[4,3],5,1,8,9] \n",
        "for i in range(len(a)):\n",
        "  if(a[i]==1): \n",
        "    print([i])"
      ],
      "metadata": {
        "colab": {
          "base_uri": "https://localhost:8080/"
        },
        "id": "ORQQSjLALzCL",
        "outputId": "96cf9556-e95b-4ef2-95fd-0c1782a2cb8e"
      },
      "execution_count": 22,
      "outputs": [
        {
          "output_type": "stream",
          "name": "stdout",
          "text": [
            "[1]\n",
            "[5]\n"
          ]
        }
      ]
    },
    {
      "cell_type": "code",
      "source": [
        "# 15) Print factors of anumber\n",
        "\n",
        "a=int(input(\"enter number\")) \n",
        "for i in range(1,a+1):\n",
        "  if ((a%i)==0): \n",
        "    print(i)"
      ],
      "metadata": {
        "colab": {
          "base_uri": "https://localhost:8080/"
        },
        "id": "h-Ug6Dw4MBE5",
        "outputId": "d58ce39b-0483-4dfe-f984-2cacda8fc50e"
      },
      "execution_count": 24,
      "outputs": [
        {
          "output_type": "stream",
          "name": "stdout",
          "text": [
            "enter number9\n",
            "1\n",
            "3\n",
            "9\n"
          ]
        }
      ]
    }
  ]
}