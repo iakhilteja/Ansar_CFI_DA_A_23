{
  "nbformat": 4,
  "nbformat_minor": 0,
  "metadata": {
    "colab": {
      "provenance": []
    },
    "kernelspec": {
      "name": "python3",
      "display_name": "Python 3"
    },
    "language_info": {
      "name": "python"
    }
  },
  "cells": [
    {
      "cell_type": "code",
      "execution_count": null,
      "metadata": {
        "colab": {
          "base_uri": "https://localhost:8080/"
        },
        "id": "v8JKm8obzeZc",
        "outputId": "7fc048f2-c7e7-42cf-ebfa-0720ba7be5b2"
      },
      "outputs": [
        {
          "output_type": "stream",
          "name": "stdout",
          "text": [
            "enter the number: 19\n",
            "the number is:  positive\n"
          ]
        }
      ],
      "source": [
        "# problem - 1\n",
        "# Write a Python program to check if a number is positive, negative or zero?\n",
        "class Num_check:\n",
        "  def __init__(self,num):\n",
        "    self.name = num\n",
        "\n",
        "  def check(self):\n",
        "    if self.name > 0:\n",
        "      return 'positive'\n",
        "    elif self.name < 0:\n",
        "      return 'negative'\n",
        "    else:\n",
        "      return 'zero'\n",
        "\n",
        "num = int(input('enter the number: '))\n",
        "n = Num_check(num)\n",
        "result = n.check()\n",
        "print('the number is: ',result)\n"
      ]
    },
    {
      "cell_type": "code",
      "source": [
        "# Problem - 2\n",
        "#print Whether the given number is even or not.\n",
        "\n",
        "class Number:\n",
        "\n",
        "  def __init__(self,num):\n",
        "    self.num = num\n",
        "\n",
        "  def eo(self):\n",
        "    if self.num %2 == 0:\n",
        "      return True\n",
        "    else:\n",
        "      return False\n",
        "\n",
        "num = int(input('enter the number: '))\n",
        "number = Number(num)\n",
        "\n",
        "if number.eo():\n",
        "  print('even')\n",
        "else:\n",
        "  print('odd')"
      ],
      "metadata": {
        "colab": {
          "base_uri": "https://localhost:8080/"
        },
        "id": "E74QT62L2JxR",
        "outputId": "1c4b844c-191a-47ab-998e-0858f13a56d0"
      },
      "execution_count": null,
      "outputs": [
        {
          "output_type": "stream",
          "name": "stdout",
          "text": [
            "enter the number: 23\n",
            "odd\n"
          ]
        }
      ]
    },
    {
      "cell_type": "code",
      "source": [
        "# problem -3\n",
        "# Write a python code to add first n numbers?\n",
        "class NumberAdder:\n",
        "    def __init__(self):\n",
        "        self.total = 0\n",
        "\n",
        "    def add_numbers(self, n):\n",
        "        for i in range(1, n+1):\n",
        "            self.total += i\n",
        "\n",
        "    def get_total(self):\n",
        "        return self.total\n",
        "\n",
        "\n",
        "n = int(input('enter the value of n: '))\n",
        "\n",
        "adder = NumberAdder()\n",
        "adder.add_numbers(n)\n",
        "\n",
        "total_sum = adder.get_total()\n",
        "print('sum of the first',n, 'numbers is:', total_sum)\n"
      ],
      "metadata": {
        "colab": {
          "base_uri": "https://localhost:8080/"
        },
        "id": "im5iElP-3t2p",
        "outputId": "7694abe0-50d5-4888-e0ed-3bf1139048e8"
      },
      "execution_count": null,
      "outputs": [
        {
          "output_type": "stream",
          "name": "stdout",
          "text": [
            "enter the value of n: 5\n",
            "sum of the first 5 numbers is: 15\n"
          ]
        }
      ]
    },
    {
      "cell_type": "code",
      "source": [
        "# problem - 4\n",
        "# print any table.\n",
        "# PRINT MULTIPLE TABLES\n",
        "\n",
        "class Multiplication:\n",
        "    def __init__(self, tables):\n",
        "        self.tables = tables\n",
        "\n",
        "    def table(self, num, limit=10):\n",
        "        for i in range(1, limit + 1):\n",
        "            print(f'{num} x {i} = {num * i}')\n",
        "        print()\n",
        "\n",
        "    def multiple_tables(self, limit=10):\n",
        "        for table in self.tables:\n",
        "            self.table(table, limit)\n",
        "\n",
        "t = [int(num) for num in input('enter the tables: ').split(',')]\n",
        "table_print = Multiplication(t)\n",
        "\n",
        "table_print.multiple_tables(limit)\n",
        "\n"
      ],
      "metadata": {
        "colab": {
          "base_uri": "https://localhost:8080/"
        },
        "id": "SCPNCATSFEuk",
        "outputId": "3aa2c339-2cd4-4479-ad83-649a2202b63c"
      },
      "execution_count": null,
      "outputs": [
        {
          "output_type": "stream",
          "name": "stdout",
          "text": [
            "enter the tables: 5\n",
            "5 x 1 = 5\n",
            "5 x 2 = 10\n",
            "5 x 3 = 15\n",
            "5 x 4 = 20\n",
            "5 x 5 = 25\n",
            "5 x 6 = 30\n",
            "5 x 7 = 35\n",
            "5 x 8 = 40\n",
            "5 x 9 = 45\n",
            "5 x 10 = 50\n",
            "\n"
          ]
        }
      ]
    },
    {
      "cell_type": "code",
      "source": [
        "#problem - 5\n",
        "# check whether the given year is leap year or not.\n",
        "class Leapyear:\n",
        "    def __init__(self, year):\n",
        "        self.year = year\n",
        "\n",
        "    def is_leap(self):\n",
        "        if (self.year % 4 == 0 and self.year % 100 != 0) or self.year % 400 == 0 :\n",
        "          return True\n",
        "        else:\n",
        "          return False\n",
        "\n",
        "y = int(input('enter a year to check a leap year: '))\n",
        "leap = Leapyear(y)\n",
        "\n",
        "if leap.is_leap():\n",
        "    print(f'{y} is a leap year')\n",
        "else:\n",
        "    print(f'{y} is not a leap year')\n"
      ],
      "metadata": {
        "colab": {
          "base_uri": "https://localhost:8080/"
        },
        "id": "hWlKh1yyUzGJ",
        "outputId": "853f3e53-9c2b-46f9-fa06-7bbe88e6ed85"
      },
      "execution_count": null,
      "outputs": [
        {
          "output_type": "stream",
          "name": "stdout",
          "text": [
            "enter a year to check a leap year: 2024\n",
            "2024 is a leap year\n"
          ]
        }
      ]
    },
    {
      "cell_type": "code",
      "source": [
        "#problem - 6\n",
        "# print the prime numbers in the given interval.\n",
        "class Prime:\n",
        "    def __init__(self, start, end):\n",
        "        self.start = start\n",
        "        self.end = end\n",
        "\n",
        "    def is_prime(self, num):\n",
        "        if num < 2:\n",
        "            return False\n",
        "        for i in range(2, int(num ** 0.5) + 1):\n",
        "            if num % i == 0:\n",
        "                return False\n",
        "        return True\n",
        "\n",
        "    def prime_num(self):\n",
        "        for num in range(self.start, self.end + 1):\n",
        "            if self.is_prime(num):\n",
        "                print(num, end=' ')\n",
        "        print()\n",
        "\n",
        "start = int(input('enter the starting number: '))\n",
        "end = int(input('enter the ending number: '))\n",
        "\n",
        "result= Prime(start, end)\n",
        "result.prime_num()\n",
        "\n"
      ],
      "metadata": {
        "colab": {
          "base_uri": "https://localhost:8080/"
        },
        "id": "8DjYbXvhNezT",
        "outputId": "47bdeb0a-0757-4104-df61-b382eaeb7c4b"
      },
      "execution_count": null,
      "outputs": [
        {
          "output_type": "stream",
          "name": "stdout",
          "text": [
            "enter the starting number: 2\n",
            "enter the ending number: 50\n",
            "2 3 5 7 11 13 17 19 23 29 31 37 41 43 47 \n"
          ]
        }
      ]
    },
    {
      "cell_type": "code",
      "source": [
        "#problem - 7\n",
        "# check whether the given number is an armstrong number or not?\n",
        "class ArmstrongNum:\n",
        "    def __init__(self, num):\n",
        "        self.num = num\n",
        "\n",
        "    def is_armstrong(self):\n",
        "        s = str(self.num)\n",
        "        pow = len(s)\n",
        "        total = sum(int(digit) ** pow for digit in s)\n",
        "        return total == self.num\n",
        "\n",
        "    def check(self):\n",
        "        if self.is_armstrong():\n",
        "            print(f'{self.num} is armstrong number')\n",
        "        else:\n",
        "            print(f'{self.num} not armstrong number')\n",
        "\n",
        "n = int(input('enter a number to check armstrong number: '))\n",
        "\n",
        "armstrong = ArmstrongNum(n)\n",
        "\n",
        "armstrong.check()\n"
      ],
      "metadata": {
        "colab": {
          "base_uri": "https://localhost:8080/"
        },
        "id": "ZmAd9yhEOSWf",
        "outputId": "02cdd374-1148-4d41-8582-62f4ba07ff90"
      },
      "execution_count": null,
      "outputs": [
        {
          "output_type": "stream",
          "name": "stdout",
          "text": [
            "enter a number to check armstrong number: 123\n",
            "123 not Armstrong number\n"
          ]
        }
      ]
    },
    {
      "cell_type": "code",
      "source": [
        "# problem -8\n",
        "# WAP to find the square root & cube root of the number?\n",
        "class NumberRoot:\n",
        "    def __init__(self, num):\n",
        "        self.num = num\n",
        "\n",
        "    def square(self):\n",
        "        sqr_root = self.num ** 0.5\n",
        "        return sqr_root\n",
        "\n",
        "    def cube(self):\n",
        "        cube_root = self.num ** (1/3)\n",
        "        return cube_root\n",
        "\n",
        "n = float(input('enter a number: '))\n",
        "\n",
        "root = NumberRoot(n)\n",
        "\n",
        "square = root.square()\n",
        "cube= root.cube()\n",
        "\n",
        "print(f'square root of: {square}')\n",
        "print(f'cube root of: {cube}')\n"
      ],
      "metadata": {
        "colab": {
          "base_uri": "https://localhost:8080/"
        },
        "id": "7TRUNUvAPo49",
        "outputId": "4d3c10d2-8494-442d-c15d-c470c5b8ad73"
      },
      "execution_count": null,
      "outputs": [
        {
          "output_type": "stream",
          "name": "stdout",
          "text": [
            "enter a number: 64\n",
            "square root of: 8.0\n",
            "cube root of: 3.9999999999999996\n"
          ]
        }
      ]
    },
    {
      "cell_type": "code",
      "source": [
        "# problem - 9\n",
        "# Write a Python program to calculate the sum of three given numbers, if the values are equal then\n",
        "# return thrice of their sum?\n",
        "class Sum:\n",
        "    def __init__(self, num1, num2, num3):\n",
        "        self.num1 = num1\n",
        "        self.num2 = num2\n",
        "        self.num3 = num3\n",
        "\n",
        "    def cal(self):\n",
        "        if self.num1 == self.num2 == self.num3:\n",
        "            return 3 * (self.num1 + self.num2 + self.num3)\n",
        "        else:\n",
        "            return self.num1 + self.num2 + self.num3\n",
        "\n",
        "num1 = int(input('enter the first number: '))\n",
        "num2 = int(input('enter the second number: '))\n",
        "num3 = int(input('enter the third number: '))\n",
        "\n",
        "s = Sum(num1, num2, num3)\n",
        "\n",
        "result = s.cal()\n",
        "\n",
        "print('sum of the three numbers: ', result)\n"
      ],
      "metadata": {
        "colab": {
          "base_uri": "https://localhost:8080/"
        },
        "id": "XNFQ5Ku2Q0wh",
        "outputId": "992af3a1-a19d-4cf7-c285-ea5ed04600a3"
      },
      "execution_count": null,
      "outputs": [
        {
          "output_type": "stream",
          "name": "stdout",
          "text": [
            "enter the first number: 4\n",
            "enter the second number: 87\n",
            "enter the third number: 6\n",
            "sum of the three numbers:  97\n"
          ]
        }
      ]
    },
    {
      "cell_type": "code",
      "source": [
        "# problem - 10\n",
        "# Isosceles, equilateral, sccalene\n",
        "class Triangle:\n",
        "    def __init__(self, side1, side2, side3):\n",
        "        self.side1 = side1\n",
        "        self.side2 = side2\n",
        "        self.side3 = side3\n",
        "\n",
        "    def classify(self):\n",
        "        if self.side1 == self.side2 == self.side3:\n",
        "            return 'equilateral triangle'\n",
        "        elif self.side1 == self.side2 or self.side1 == self.side3 or self.side2 == self.side3:\n",
        "            return 'isosceles triangle'\n",
        "        else:\n",
        "            return 'scalene triangle'\n",
        "\n",
        "side1 = float(input('enter the length of side1: '))\n",
        "side2 = float(input('enter the length of side2: '))\n",
        "side3 = float(input('enter the length of side3: '))\n",
        "\n",
        "triangle = Triangle(side1, side2, side3)\n",
        "\n",
        "triangle_type = triangle.classify()\n",
        "\n",
        "print(f'triangle is a {triangle_type}')\n"
      ],
      "metadata": {
        "colab": {
          "base_uri": "https://localhost:8080/"
        },
        "id": "3e8tJX-zRrQf",
        "outputId": "5f5c78db-e198-4074-a678-b25f3ee39796"
      },
      "execution_count": null,
      "outputs": [
        {
          "output_type": "stream",
          "name": "stdout",
          "text": [
            "enter the length of side1: 7\n",
            "enter the length of side2: 8\n",
            "enter the length of side3: 9\n",
            "triangle is a scalene triangle\n"
          ]
        }
      ]
    }
  ]
}